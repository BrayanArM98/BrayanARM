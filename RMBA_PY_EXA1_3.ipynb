{
  "nbformat": 4,
  "nbformat_minor": 0,
  "metadata": {
    "colab": {
      "provenance": [],
      "include_colab_link": true
    },
    "kernelspec": {
      "name": "python3",
      "display_name": "Python 3"
    },
    "language_info": {
      "name": "python"
    }
  },
  "cells": [
    {
      "cell_type": "markdown",
      "metadata": {
        "id": "view-in-github",
        "colab_type": "text"
      },
      "source": [
        "<a href=\"https://colab.research.google.com/github/BrayanArM98/Python/blob/main/RMBA_PY_EXA1_3.ipynb\" target=\"_parent\"><img src=\"https://colab.research.google.com/assets/colab-badge.svg\" alt=\"Open In Colab\"/></a>"
      ]
    },
    {
      "cell_type": "markdown",
      "source": [
        "Escribe una funcion de Python en collaboratory que realice lo siguiente:\n",
        "\n",
        "funcion que retorne una lista con 30 numeros generados aleatorios (20-100) no repetidos\n",
        "\n",
        "Escribir codigo que mande llamar la funcion y desplegar el resultado,\n",
        "\n",
        "Escribir enlace a GITHUB a un dcto que se llame INICIALES_PY_exa1"
      ],
      "metadata": {
        "id": "SJpg9vNh8bbN"
      }
    },
    {
      "cell_type": "code",
      "source": [
        "import random\n",
        "def numsale():\n",
        "    for i in range(1,31):\n",
        "        num=random.randint(20,100)\n",
        "        print(f\"{i}- {num}\")\n",
        "\n",
        "numsale()"
      ],
      "metadata": {
        "colab": {
          "base_uri": "https://localhost:8080/"
        },
        "id": "TpcKmb3d8gmV",
        "outputId": "ad3a2190-689c-4c85-e13a-0477540d8fbc"
      },
      "execution_count": 2,
      "outputs": [
        {
          "output_type": "stream",
          "name": "stdout",
          "text": [
            "1- 37\n",
            "2- 69\n",
            "3- 37\n",
            "4- 44\n",
            "5- 90\n",
            "6- 46\n",
            "7- 50\n",
            "8- 40\n",
            "9- 64\n",
            "10- 82\n",
            "11- 93\n",
            "12- 71\n",
            "13- 65\n",
            "14- 49\n",
            "15- 46\n",
            "16- 31\n",
            "17- 73\n",
            "18- 53\n",
            "19- 99\n",
            "20- 31\n",
            "21- 25\n",
            "22- 48\n",
            "23- 28\n",
            "24- 89\n",
            "25- 85\n",
            "26- 32\n",
            "27- 65\n",
            "28- 94\n",
            "29- 77\n",
            "30- 58\n"
          ]
        }
      ]
    }
  ]
}