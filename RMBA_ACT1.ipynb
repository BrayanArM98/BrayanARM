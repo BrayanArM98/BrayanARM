{
  "nbformat": 4,
  "nbformat_minor": 0,
  "metadata": {
    "colab": {
      "provenance": [],
      "authorship_tag": "ABX9TyM0wsTpttlaXJXNFwXI9YVy",
      "include_colab_link": true
    },
    "kernelspec": {
      "name": "python3",
      "display_name": "Python 3"
    },
    "language_info": {
      "name": "python"
    }
  },
  "cells": [
    {
      "cell_type": "markdown",
      "metadata": {
        "id": "view-in-github",
        "colab_type": "text"
      },
      "source": [
        "<a href=\"https://colab.research.google.com/github/BrayanArM98/BrayanARM/blob/main/RMBA_ACT1.ipynb\" target=\"_parent\"><img src=\"https://colab.research.google.com/assets/colab-badge.svg\" alt=\"Open In Colab\"/></a>"
      ]
    },
    {
      "cell_type": "markdown",
      "source": [
        "# ACTIVIDAD *1*"
      ],
      "metadata": {
        "id": "1KNdsrihrq3N"
      }
    },
    {
      "cell_type": "markdown",
      "source": [
        "1.- Programa en Python Mostrar un mensaje que diga “HOLA MUNDO” en un solo renglón usando 2 print"
      ],
      "metadata": {
        "id": "8OApUci8tyb7"
      }
    },
    {
      "cell_type": "code",
      "source": [
        "print (\"HOLA\", end=\" \")\n",
        "print (\"MUNDO\")"
      ],
      "metadata": {
        "colab": {
          "base_uri": "https://localhost:8080/"
        },
        "id": "fQNy58pAsjQC",
        "outputId": "8a110191-4be9-4cec-a428-5b586b1de96b"
      },
      "execution_count": 9,
      "outputs": [
        {
          "output_type": "stream",
          "name": "stdout",
          "text": [
            "HOLA MUNDO\n"
          ]
        }
      ]
    },
    {
      "cell_type": "markdown",
      "source": [
        "2.- Programa en Python que lea 2 números, realizar la suma y desplegar la suma de los 2 números"
      ],
      "metadata": {
        "id": "bQZ1H8CCv2lE"
      }
    },
    {
      "cell_type": "code",
      "source": [
        "num1 = int(input(\"PROPORCIONA EL PRIMER NUMERO: \"))\n",
        "num2 = int(input(\"PROPORCIONA EL SEGUNDO NUMERO: \"))\n",
        "\n",
        "suma = num1 + num2\n",
        "\n",
        "print (f\"EL RESULTADO ES = {suma}\")"
      ],
      "metadata": {
        "colab": {
          "base_uri": "https://localhost:8080/"
        },
        "id": "lglfWjuwwCCd",
        "outputId": "faf6c1d9-06a9-4347-fc57-1a837b52aba5"
      },
      "execution_count": 14,
      "outputs": [
        {
          "output_type": "stream",
          "name": "stdout",
          "text": [
            "PROPORCIONA EL PRIMER NUMERO: 8\n",
            "PROPORCIONA EL SEGUNDO NUMERO: 8\n",
            "EL RESULTADO ES = 16\n"
          ]
        }
      ]
    },
    {
      "cell_type": "markdown",
      "source": [
        "3.- Programa en Python que lea 2 números y realice las 4 operaciones básicas"
      ],
      "metadata": {
        "id": "pTZhXmIf39iO"
      }
    },
    {
      "cell_type": "code",
      "source": [
        "num1 = int(input(\"PROPORCIONA EL PRIMER NUMERO: \"))\n",
        "num2 = int(input(\"PROPORCIONA EL SEGUNDO NUMERO: \"))\n",
        "\n",
        "suma = num1 + num2\n",
        "resta = num1 - num2\n",
        "multiplicacion = num1 * num2\n",
        "division = num1 / num2\n",
        "\n",
        "print(\"LA SUMA DE\", num1, \"y el\", num2, \"es :\", suma)\n",
        "print(\"LA RESTA DE\", num1, \"y el\", num2, \"es :\", resta)\n",
        "print(\"LA MULTIPLICACION DE\", num1, \"y el\", num2, \"es :\", multiplicacion)\n",
        "print(\"LA DIVISION ES \", num1, \"y el \", num2, \"es :\", division)"
      ],
      "metadata": {
        "colab": {
          "base_uri": "https://localhost:8080/"
        },
        "id": "lw3XcTFT4GXy",
        "outputId": "4bb43d0f-e09a-47c6-a551-4b49e5ed9eba"
      },
      "execution_count": 16,
      "outputs": [
        {
          "output_type": "stream",
          "name": "stdout",
          "text": [
            "PROPORCIONA EL PRIMER NUMERO: 4\n",
            "PROPORCIONA EL SEGUNDO NUMERO: 9\n",
            "LA SUMA DE 4 y el 9 es : 13\n",
            "LA RESTA DE 4 y el 9 es : -5\n",
            "LA MULTIPLICACION DE 4 y el 9 es : 36\n",
            "LA DIVISION ES  4 y el  9 es : 0.4444444444444444\n"
          ]
        }
      ]
    },
    {
      "cell_type": "markdown",
      "source": [
        "4.- Programa en Python que sirva para calcular el área de un triángulo"
      ],
      "metadata": {
        "id": "sIefUOvT5Y4e"
      }
    },
    {
      "cell_type": "code",
      "source": [
        "base = float(input(\"INGRESA LA BASE DEL TRIÁNGULO:\"))\n",
        "altura = float(input(\"INGRESA LA ALTURA DEL TRIÁNGULO:\"))\n",
        "\n",
        "area = (base * altura) / 2\n",
        "print (\"EL ÁREA DEL TRIÁNGULO ES:\", area)"
      ],
      "metadata": {
        "colab": {
          "base_uri": "https://localhost:8080/"
        },
        "id": "rdk3xLbk6Hgw",
        "outputId": "78cae9eb-d249-44a1-fc8a-7b947c9666b3"
      },
      "execution_count": 19,
      "outputs": [
        {
          "output_type": "stream",
          "name": "stdout",
          "text": [
            "INGRESA LA BASE DEL TRIÁNGULO:65\n",
            "INGRESA LA ALTURA DEL TRIÁNGULO:3\n",
            "EL ÁREA DEL TRIÁNGULO ES: 97.5\n"
          ]
        }
      ]
    },
    {
      "cell_type": "markdown",
      "source": [
        "5.- Programa en Python que lea una medida en centímetros y desplegar la misma medida pero convertida en pies y pulgadas"
      ],
      "metadata": {
        "id": "e4ZKeUMY7OU7"
      }
    },
    {
      "cell_type": "code",
      "source": [
        "centimeters = float(input(\"PROPORCIONA TU MEDIDA EN CENTIMETROS: \"))\n",
        "\n",
        "inches = centimeters / 2.54\n",
        "\n",
        "feet = inches / 12\n",
        "\n",
        "print(\"LA MEDIDA EN PIES Y EN PULGADAS ES :\", feet, \"PIES y\", inches % 12, \"PULGADAS\")\n"
      ],
      "metadata": {
        "colab": {
          "base_uri": "https://localhost:8080/"
        },
        "id": "XEEgw5ox7XPW",
        "outputId": "5cb05e1e-a37b-419e-f196-642a3b33b6e1"
      },
      "execution_count": 20,
      "outputs": [
        {
          "output_type": "stream",
          "name": "stdout",
          "text": [
            "PROPORCIONA TU MEDIDA EN CENTIMETROS: 64\n",
            "LA MEDIDA EN PIES Y EN PULGADAS ES : 2.099737532808399 PIES y 1.1968503937007853 PULGADAS\n"
          ]
        }
      ]
    },
    {
      "cell_type": "markdown",
      "source": [
        "6.- Programa en Python que lea una temperatura en grados centígrados y desplegarla en Grados Fahrenheit y grados kelvin"
      ],
      "metadata": {
        "id": "8yMoBkF88IDv"
      }
    },
    {
      "cell_type": "code",
      "source": [
        "celsius = float(input(\"INGRESA LA TEMPERATURA OBTENIDA EN GRADOS CENTIGRADOS: \"))\n",
        "\n",
        "fahrenheit = (celsius * 9/5) + 32\n",
        "\n",
        "kelvin = celsius + 273.15\n",
        "\n",
        "print(\"LA TEMPERATURA EN GRADOS FAHRENHEIT ES:\", fahrenheit)\n",
        "\n",
        "print(\"LA TEMPERATURA EN GRADOS KELVIN ES:\", kelvin)"
      ],
      "metadata": {
        "colab": {
          "base_uri": "https://localhost:8080/"
        },
        "id": "VYPborZE8RnO",
        "outputId": "23d0c4c7-57fd-464d-b80a-318a0f18a67d"
      },
      "execution_count": 23,
      "outputs": [
        {
          "output_type": "stream",
          "name": "stdout",
          "text": [
            "INGRESA LA TEMPERATURA OBTENIDA EN GRADOS CENTIGRADOS: 78\n",
            "LA TEMPERATURA EN GRADOS FAHRENHEIT ES: 172.4\n",
            "LA TEMPERATURA EN GRADOS KELVIN ES: 351.15\n"
          ]
        }
      ]
    },
    {
      "cell_type": "markdown",
      "source": [
        "7.- Programa en Python que lea 4 calificaciones de un alumno, desplegar el promedio del alumno"
      ],
      "metadata": {
        "id": "kU9AxnxP9bOX"
      }
    },
    {
      "cell_type": "code",
      "source": [
        "CALIFICACION1 = float(input(\"INGRESA LA PRIMERA CALIFICACION DEL ALUMNO: \"))\n",
        "\n",
        "CALIFICACION2 = float(input(\"INGRESA LA SEGUNDA CALIFICACION DEL ALUMNO: \"))\n",
        "\n",
        "CALIFICACION3 = float(input(\"INGRESA LA TERCERA CALIFICACION DEL ALUMNO: \"))\n",
        "\n",
        "CALIFICACION4 = float(input(\"INGRESA LA CUARTA CALIFICACION DEL ALUMO:\"))\n",
        "\n",
        "promedio = (CALIFICACION1 + CALIFICACION2 + CALIFICACION3 + CALIFICACION4) / 4\n",
        "\n",
        "print(\"EL PROMEDIO TOTAL DEL ALUMNO ES DE:\", promedio)"
      ],
      "metadata": {
        "colab": {
          "base_uri": "https://localhost:8080/"
        },
        "id": "yR3fs49Q9x2j",
        "outputId": "428d5dfb-794a-4776-d25a-6e2157fa3416"
      },
      "execution_count": 26,
      "outputs": [
        {
          "output_type": "stream",
          "name": "stdout",
          "text": [
            "INGRESA LA PRIMERA CALIFICACION DEL ALUMNO: 6\n",
            "INGRESA LA SEGUNDA CALIFICACION DEL ALUMNO: 7\n",
            "INGRESA LA TERCERA CALIFICACION DEL ALUMNO: 9\n",
            "INGRESA LA CUARTA CALIFICACION DEL ALUMO:9\n",
            "EL PROMEDIO TOTAL DEL ALUMNO ES DE: 7.75\n"
          ]
        }
      ]
    }
  ]
}