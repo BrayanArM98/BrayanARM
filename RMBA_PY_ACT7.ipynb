{
  "nbformat": 4,
  "nbformat_minor": 0,
  "metadata": {
    "colab": {
      "provenance": [],
      "authorship_tag": "ABX9TyPFsrOa9y8WF3oePHLRCZVB",
      "include_colab_link": true
    },
    "kernelspec": {
      "name": "python3",
      "display_name": "Python 3"
    },
    "language_info": {
      "name": "python"
    }
  },
  "cells": [
    {
      "cell_type": "markdown",
      "metadata": {
        "id": "view-in-github",
        "colab_type": "text"
      },
      "source": [
        "<a href=\"https://colab.research.google.com/github/BrayanArM98/Python/blob/main/RMBA_PY_ACT7.ipynb\" target=\"_parent\"><img src=\"https://colab.research.google.com/assets/colab-badge.svg\" alt=\"Open In Colab\"/></a>"
      ]
    },
    {
      "cell_type": "markdown",
      "source": [
        "# ACTIVIDAD 7"
      ],
      "metadata": {
        "id": "o633C5v-S9vZ"
      }
    },
    {
      "cell_type": "markdown",
      "source": [
        " 1.-Función que utilice una lista con los nombres de tus mascotas, o artistas favoritos, (minimo 5, maximo 10) imprimir las cadenas y la cantidad de caracteres de cada cadena.  \n",
        "\n",
        "EJEMPLO SALIDA:\n",
        "\n",
        "[0]SCARLETT --> 8 CARACTERES\n",
        "\n",
        "[1]GATINA --> 6 CARACTERES\n",
        "\n",
        "[2]PELUSA --> 6 CARACTERES\n",
        "\n",
        "[3]PELUSINA --> 8 CARACTERES\n",
        "\n",
        "[4]MILO --> 4 CARACTERES\n",
        "\n",
        "[5]KHALIFA --> 7 CARACTERES\n",
        "\n"
      ],
      "metadata": {
        "id": "MIQn-lHPS_ZA"
      }
    },
    {
      "cell_type": "code",
      "source": [
        "def lista():\n",
        "    print(\"Lista de Artistas Favoritos: \")\n",
        "    lista = [\"DEPECHE MODE\", \"21 SAVEGE\", \"GHOST MANE\", \"50 CENT\", \"EMINEM\", \"POST MALONE\",\"FUTURE\" ]\n",
        "    for i,cadena in enumerate(lista):\n",
        "        print(f\"{(i+1)}: {cadena} -- TIENE {len(cadena)} CARACTERES\")\n",
        "\n",
        "    print(len(lista))\n",
        "\n",
        "lista()"
      ],
      "metadata": {
        "colab": {
          "base_uri": "https://localhost:8080/"
        },
        "id": "RkUbqr6xTAAQ",
        "outputId": "83fac7b3-0f07-4cab-e3c6-475eb4405599"
      },
      "execution_count": null,
      "outputs": [
        {
          "output_type": "stream",
          "name": "stdout",
          "text": [
            "Lista de Artistas Favoritos: \n",
            "1: DEPECHE MODE -- TIENE 12 CARACTERES\n",
            "2: 21 SAVEGE -- TIENE 9 CARACTERES\n",
            "3: GHOST MANE -- TIENE 10 CARACTERES\n",
            "4: 50 CENT -- TIENE 7 CARACTERES\n",
            "5: EMINEM -- TIENE 6 CARACTERES\n",
            "6: POST MALONE -- TIENE 11 CARACTERES\n",
            "7: FUTURE -- TIENE 6 CARACTERES\n",
            "7\n"
          ]
        }
      ]
    },
    {
      "cell_type": "markdown",
      "source": [
        "2.-Programa que utilice 2 funciones,\n",
        "\n",
        "Función que genere y regrese una lista con 10 números aleatorios entre el 30 y 50 (no repetidos).\n",
        "Función que reciba una lista , Imprimir la lista (Indice y Valor )\n",
        "\n",
        "\n",
        " Mandar llamar la función e imprimir toda la lista."
      ],
      "metadata": {
        "id": "DNS0ePeRTAOQ"
      }
    },
    {
      "cell_type": "code",
      "source": [
        "from IPython.display import clear_output\n",
        "import random\n",
        "\n",
        "def aleatorio():\n",
        "    lista=[]\n",
        "    while len(lista)<10:\n",
        "        num=random.randint(30,51)\n",
        "        if num not in lista:\n",
        "            lista.append(num)\n",
        "    i=0\n",
        "    for cadena in lista:\n",
        "        print(f\"{(i+1)}.- {cadena}\")\n",
        "        i=i+1\n",
        "    input(\"Presiona enter para continuar\")\n",
        "    global op\n",
        "    op=0\n",
        "\n",
        "def lista():\n",
        "    lista=[]\n",
        "    opc=1\n",
        "    while opc!=2:\n",
        "        clear_output()\n",
        "        print(\"Quieres agregar algo a tu lista?\")\n",
        "        print(\"1.- SI\")\n",
        "        opc=int(input(\"2.- NO \"))\n",
        "        if opc==2:\n",
        "            break\n",
        "        add=validar_num(\"Ingresa lo que quieras agregar \")\n",
        "        lista.append(add)\n",
        "    i=0\n",
        "    print(\"Esta es tu lista: \")\n",
        "    for cadena in lista:\n",
        "        print(f\"{(i+1)}.- {cadena}\")\n",
        "        i=i+1\n",
        "    input(\"Presiona enter para continuar\")\n",
        "    global op\n",
        "    op=0\n",
        "\n",
        "while True:\n",
        "    clear_output()\n",
        "    print(\" M E N U\")\n",
        "    print(\"1. Aleatorios\")\n",
        "    print(\"2. Lista\")\n",
        "    print(\"3. Salir\")\n",
        "    op=validar_num(\"Que opcion eliges? \")\n",
        "    if op==1:\n",
        "        clear_output()\n",
        "        aleatorio()\n",
        "    elif op==2:\n",
        "        clear_output()\n",
        "        lista()\n",
        "    elif op==3:\n",
        "        break\n",
        "    else:\n",
        "        print(\"Opcion invalida, intente de nuevo\")\n",
        "        continue"
      ],
      "metadata": {
        "colab": {
          "base_uri": "https://localhost:8080/",
          "height": 314
        },
        "id": "45ouflJGTAcX",
        "outputId": "92776bbb-8cd9-4502-cea6-a5e455152f0e"
      },
      "execution_count": null,
      "outputs": [
        {
          "output_type": "stream",
          "name": "stdout",
          "text": [
            " M E N U\n",
            "1. Aleatorios\n",
            "2. Lista\n",
            "3. Salir\n"
          ]
        },
        {
          "output_type": "error",
          "ename": "NameError",
          "evalue": "ignored",
          "traceback": [
            "\u001b[0;31m---------------------------------------------------------------------------\u001b[0m",
            "\u001b[0;31mNameError\u001b[0m                                 Traceback (most recent call last)",
            "\u001b[0;32m<ipython-input-1-4e7deb80e2a5>\u001b[0m in \u001b[0;36m<cell line: 39>\u001b[0;34m()\u001b[0m\n\u001b[1;32m     43\u001b[0m     \u001b[0mprint\u001b[0m\u001b[0;34m(\u001b[0m\u001b[0;34m\"2. Lista\"\u001b[0m\u001b[0;34m)\u001b[0m\u001b[0;34m\u001b[0m\u001b[0;34m\u001b[0m\u001b[0m\n\u001b[1;32m     44\u001b[0m     \u001b[0mprint\u001b[0m\u001b[0;34m(\u001b[0m\u001b[0;34m\"3. Salir\"\u001b[0m\u001b[0;34m)\u001b[0m\u001b[0;34m\u001b[0m\u001b[0;34m\u001b[0m\u001b[0m\n\u001b[0;32m---> 45\u001b[0;31m     \u001b[0mop\u001b[0m\u001b[0;34m=\u001b[0m\u001b[0mvalidar_num\u001b[0m\u001b[0;34m(\u001b[0m\u001b[0;34m\"Que opcion eliges? \"\u001b[0m\u001b[0;34m)\u001b[0m\u001b[0;34m\u001b[0m\u001b[0;34m\u001b[0m\u001b[0m\n\u001b[0m\u001b[1;32m     46\u001b[0m     \u001b[0;32mif\u001b[0m \u001b[0mop\u001b[0m\u001b[0;34m==\u001b[0m\u001b[0;36m1\u001b[0m\u001b[0;34m:\u001b[0m\u001b[0;34m\u001b[0m\u001b[0;34m\u001b[0m\u001b[0m\n\u001b[1;32m     47\u001b[0m         \u001b[0mclear_output\u001b[0m\u001b[0;34m(\u001b[0m\u001b[0;34m)\u001b[0m\u001b[0;34m\u001b[0m\u001b[0;34m\u001b[0m\u001b[0m\n",
            "\u001b[0;31mNameError\u001b[0m: name 'validar_num' is not defined"
          ]
        }
      ]
    },
    {
      "cell_type": "markdown",
      "source": [
        "3.-Escribe una función que reciba dos listas de números del mismo tamaño y calcule la suma de los elementos correspondientes de cada lista. (regresar una nueva lista) . Luego, muestra una lista con los resultados de cada suma. Nota: si las listas no son del mismo tamaño mandar msge y utilizar el tamaño de la lista mas pequeña)\n",
        "\n"
      ],
      "metadata": {
        "id": "B6Xf9NZJTAsP"
      }
    },
    {
      "cell_type": "code",
      "source": [
        "from IPython.display import clear_output\n",
        "def sumlist(list1,list2):\n",
        "    list1=[]\n",
        "    list2=[]\n",
        "    tam1=validar_num(\"Ingresa el tamaño de tu primer lista:\")\n",
        "    for i in range(tam1):\n",
        "        num=validar_num(f\"Ingresa el elemento {i+1} a tu lista: \")\n",
        "        list1.append(num)\n",
        "        clear_output()\n",
        "    tam2=validar_num(\"Ingresa el tamaño de tu segunda lista: \")\n",
        "    for i in range(tam2):\n",
        "        num=validar_num(f\"Ingresa el elemento {i+1} a tu lista: \")\n",
        "        list2.append(num)\n",
        "    if (tam1!=tam2):\n",
        "        print(\"Las listas son de diferente tamaño, se utilizará la lista mas pequeña\")\n",
        "        tam=min(len(list1),len(list2))\n",
        "    else:\n",
        "        tam=len(list1)\n",
        "    sumalistas=[]\n",
        "    for i in range(tam):\n",
        "        suma=list1[i]+list2[i]\n",
        "        sumalistas.append(suma)\n",
        "    clear_output()\n",
        "    print(f\"LISTA 1: {list1}\")\n",
        "    print(f\"LISTA 2: {list2}\")\n",
        "    print(f\"La suma de las listas es igual a: {sumalistas}\")\n",
        "list1=[]\n",
        "list2=[]\n",
        "\n",
        "sumlist(list1,list2)"
      ],
      "metadata": {
        "colab": {
          "base_uri": "https://localhost:8080/",
          "height": 331
        },
        "id": "lWOu3fe0TA-g",
        "outputId": "41c1cdbc-45d1-4a85-d627-1bf186d580f7"
      },
      "execution_count": null,
      "outputs": [
        {
          "output_type": "error",
          "ename": "NameError",
          "evalue": "ignored",
          "traceback": [
            "\u001b[0;31m---------------------------------------------------------------------------\u001b[0m",
            "\u001b[0;31mNameError\u001b[0m                                 Traceback (most recent call last)",
            "\u001b[0;32m<ipython-input-3-ecccc0b4317d>\u001b[0m in \u001b[0;36m<cell line: 30>\u001b[0;34m()\u001b[0m\n\u001b[1;32m     28\u001b[0m \u001b[0mlist2\u001b[0m\u001b[0;34m=\u001b[0m\u001b[0;34m[\u001b[0m\u001b[0;34m]\u001b[0m\u001b[0;34m\u001b[0m\u001b[0;34m\u001b[0m\u001b[0m\n\u001b[1;32m     29\u001b[0m \u001b[0;34m\u001b[0m\u001b[0m\n\u001b[0;32m---> 30\u001b[0;31m \u001b[0msumlist\u001b[0m\u001b[0;34m(\u001b[0m\u001b[0mlist1\u001b[0m\u001b[0;34m,\u001b[0m\u001b[0mlist2\u001b[0m\u001b[0;34m)\u001b[0m\u001b[0;34m\u001b[0m\u001b[0;34m\u001b[0m\u001b[0m\n\u001b[0m",
            "\u001b[0;32m<ipython-input-3-ecccc0b4317d>\u001b[0m in \u001b[0;36msumlist\u001b[0;34m(list1, list2)\u001b[0m\n\u001b[1;32m      3\u001b[0m     \u001b[0mlist1\u001b[0m\u001b[0;34m=\u001b[0m\u001b[0;34m[\u001b[0m\u001b[0;36m1\u001b[0m\u001b[0;34m,\u001b[0m\u001b[0;36m2\u001b[0m\u001b[0;34m,\u001b[0m\u001b[0;36m3\u001b[0m\u001b[0;34m,\u001b[0m\u001b[0;36m4\u001b[0m\u001b[0;34m,\u001b[0m\u001b[0;36m5\u001b[0m\u001b[0;34m,\u001b[0m\u001b[0;36m6\u001b[0m\u001b[0;34m,\u001b[0m\u001b[0;36m7\u001b[0m\u001b[0;34m]\u001b[0m\u001b[0;34m\u001b[0m\u001b[0;34m\u001b[0m\u001b[0m\n\u001b[1;32m      4\u001b[0m     \u001b[0mlist2\u001b[0m\u001b[0;34m=\u001b[0m\u001b[0;34m[\u001b[0m\u001b[0;36m1\u001b[0m\u001b[0;34m,\u001b[0m\u001b[0;36m2\u001b[0m\u001b[0;34m,\u001b[0m\u001b[0;36m3\u001b[0m\u001b[0;34m,\u001b[0m\u001b[0;36m4\u001b[0m\u001b[0;34m,\u001b[0m\u001b[0;36m5\u001b[0m\u001b[0;34m,\u001b[0m\u001b[0;36m6\u001b[0m\u001b[0;34m,\u001b[0m\u001b[0;36m7\u001b[0m\u001b[0;34m]\u001b[0m\u001b[0;34m\u001b[0m\u001b[0;34m\u001b[0m\u001b[0m\n\u001b[0;32m----> 5\u001b[0;31m     \u001b[0mtam1\u001b[0m\u001b[0;34m=\u001b[0m\u001b[0mvalidar_num\u001b[0m\u001b[0;34m(\u001b[0m\u001b[0;34m\"Ingresa el tamaño de tu primer lista:\"\u001b[0m\u001b[0;34m)\u001b[0m\u001b[0;34m\u001b[0m\u001b[0;34m\u001b[0m\u001b[0m\n\u001b[0m\u001b[1;32m      6\u001b[0m     \u001b[0;32mfor\u001b[0m \u001b[0mi\u001b[0m \u001b[0;32min\u001b[0m \u001b[0mrange\u001b[0m\u001b[0;34m(\u001b[0m\u001b[0mtam1\u001b[0m\u001b[0;34m)\u001b[0m\u001b[0;34m:\u001b[0m\u001b[0;34m\u001b[0m\u001b[0;34m\u001b[0m\u001b[0m\n\u001b[1;32m      7\u001b[0m         \u001b[0mnum\u001b[0m\u001b[0;34m=\u001b[0m\u001b[0mvalidar_num\u001b[0m\u001b[0;34m(\u001b[0m\u001b[0;34mf\"Ingresa el elemento {i+1} a tu lista: \"\u001b[0m\u001b[0;34m)\u001b[0m\u001b[0;34m\u001b[0m\u001b[0;34m\u001b[0m\u001b[0m\n",
            "\u001b[0;31mNameError\u001b[0m: name 'validar_num' is not defined"
          ]
        }
      ]
    },
    {
      "cell_type": "markdown",
      "source": [
        "4.-Escribe una función llamada eliminar_duplicados que reciba una lista como parámetro y elimine los elementos duplicados. El resultado debe ser una nueva lista sin duplicados. Pide al usuario que ingrese una lista y luego llama a la función eliminar_duplicados para mostrar la lista sin duplicados. (Solo Numeros enteros, validar)\n",
        "\n"
      ],
      "metadata": {
        "id": "MGCRijTaTBRP"
      }
    },
    {
      "cell_type": "code",
      "source": [
        "def elimdups(lista):\n",
        "    lista=[]\n",
        "    tam=validar_num(\"Ingresa el tamaño de tu lista\")\n",
        "    for i in range(tam):\n",
        "        num=validar_num(f\"Ingresa el elemento {i+1} a tu lista: \")\n",
        "        lista.append(num)\n",
        "    nuevalista=[]\n",
        "    for elemento in lista:\n",
        "        if elemento not in nuevalista:\n",
        "            nuevalista.append(elemento)\n",
        "    print(f\"Su lista es: {lista}\")\n",
        "    print(f\"La nueva lista (sin duplicados) es: {nuevalista}\")\n",
        "\n",
        "elimdups(lista)"
      ],
      "metadata": {
        "colab": {
          "base_uri": "https://localhost:8080/",
          "height": 331
        },
        "id": "BPjKayIITBhn",
        "outputId": "65a05aaa-dc2b-451b-f0ed-5ea57141ec59"
      },
      "execution_count": null,
      "outputs": [
        {
          "output_type": "error",
          "ename": "NameError",
          "evalue": "ignored",
          "traceback": [
            "\u001b[0;31m---------------------------------------------------------------------------\u001b[0m",
            "\u001b[0;31mNameError\u001b[0m                                 Traceback (most recent call last)",
            "\u001b[0;32m<ipython-input-10-d512d920b16c>\u001b[0m in \u001b[0;36m<cell line: 14>\u001b[0;34m()\u001b[0m\n\u001b[1;32m     12\u001b[0m     \u001b[0mprint\u001b[0m\u001b[0;34m(\u001b[0m\u001b[0;34mf\"La nueva lista (sin duplicados) es: {nuevalista}\"\u001b[0m\u001b[0;34m)\u001b[0m\u001b[0;34m\u001b[0m\u001b[0;34m\u001b[0m\u001b[0m\n\u001b[1;32m     13\u001b[0m \u001b[0;34m\u001b[0m\u001b[0m\n\u001b[0;32m---> 14\u001b[0;31m \u001b[0melimdups\u001b[0m\u001b[0;34m(\u001b[0m\u001b[0mlista\u001b[0m\u001b[0;34m)\u001b[0m\u001b[0;34m\u001b[0m\u001b[0;34m\u001b[0m\u001b[0m\n\u001b[0m",
            "\u001b[0;32m<ipython-input-10-d512d920b16c>\u001b[0m in \u001b[0;36melimdups\u001b[0;34m(lista)\u001b[0m\n\u001b[1;32m      1\u001b[0m \u001b[0;32mdef\u001b[0m \u001b[0melimdups\u001b[0m\u001b[0;34m(\u001b[0m\u001b[0mlista\u001b[0m\u001b[0;34m)\u001b[0m\u001b[0;34m:\u001b[0m\u001b[0;34m\u001b[0m\u001b[0;34m\u001b[0m\u001b[0m\n\u001b[1;32m      2\u001b[0m     \u001b[0mlista\u001b[0m\u001b[0;34m=\u001b[0m\u001b[0;34m[\u001b[0m\u001b[0;34m]\u001b[0m\u001b[0;34m\u001b[0m\u001b[0;34m\u001b[0m\u001b[0m\n\u001b[0;32m----> 3\u001b[0;31m     \u001b[0mtam\u001b[0m\u001b[0;34m=\u001b[0m\u001b[0mvalidar_num\u001b[0m\u001b[0;34m(\u001b[0m\u001b[0;34m\"Ingresa el tamaño de tu lista\"\u001b[0m\u001b[0;34m)\u001b[0m\u001b[0;34m\u001b[0m\u001b[0;34m\u001b[0m\u001b[0m\n\u001b[0m\u001b[1;32m      4\u001b[0m     \u001b[0;32mfor\u001b[0m \u001b[0mi\u001b[0m \u001b[0;32min\u001b[0m \u001b[0mrange\u001b[0m\u001b[0;34m(\u001b[0m\u001b[0mtam\u001b[0m\u001b[0;34m)\u001b[0m\u001b[0;34m:\u001b[0m\u001b[0;34m\u001b[0m\u001b[0;34m\u001b[0m\u001b[0m\n\u001b[1;32m      5\u001b[0m         \u001b[0mnum\u001b[0m\u001b[0;34m=\u001b[0m\u001b[0mvalidar_num\u001b[0m\u001b[0;34m(\u001b[0m\u001b[0;34mf\"Ingresa el elemento {i+1} a tu lista: \"\u001b[0m\u001b[0;34m)\u001b[0m\u001b[0;34m\u001b[0m\u001b[0;34m\u001b[0m\u001b[0m\n",
            "\u001b[0;31mNameError\u001b[0m: name 'validar_num' is not defined"
          ]
        }
      ]
    },
    {
      "cell_type": "markdown",
      "source": [
        "5.-Escribe una función que calcule la media y la mediana de una lista de números enteros.\n",
        "\n",
        "La media es la suma de todos los elementos y dividido entre la cantidad de elementos\n",
        "\n",
        "La mediana es el valor que queda en la mitad de la lista cuando se ordena de forma ascendente. Si la lista tiene un número par de elementos, la mediana se calcula como el promedio de los dos valores centrales. Puedes utilizar el método sort() para ordenar la lista y luego calcular la mediana según el tamaño de la lista."
      ],
      "metadata": {
        "id": "S6D8XHJETB3f"
      }
    },
    {
      "cell_type": "code",
      "source": [
        "def medmed(lista):\n",
        "    lista=[]\n",
        "    tam=validar_num(\"Ingresa el tamaño de tu lista: \")\n",
        "    for i in range(tam):\n",
        "        num=validar_num(f\"Ingresa el elemento {i+1} a tu lista: \")\n",
        "        lista.append(num)\n",
        "    tam=len(lista)\n",
        "    listord=sorted(lista)\n",
        "    media=sum(lista)/tam\n",
        "\n",
        "    if tam%2==0:\n",
        "        mediana=(listord(tam//2-1)+listord(tam//2)/2)\n",
        "    else:\n",
        "        mediana=listord[tam//2]\n",
        "    clear_output()\n",
        "    print(f\"La media de la lista es: {media}\")\n",
        "    print(f\"La mediana de la lista es: {mediana}\")\n",
        "\n",
        "medmed(lista)"
      ],
      "metadata": {
        "colab": {
          "base_uri": "https://localhost:8080/",
          "height": 331
        },
        "id": "ifJevn1BTCT3",
        "outputId": "18706f70-8762-4adf-8af5-c30e7bb2d754"
      },
      "execution_count": null,
      "outputs": [
        {
          "output_type": "error",
          "ename": "NameError",
          "evalue": "ignored",
          "traceback": [
            "\u001b[0;31m---------------------------------------------------------------------------\u001b[0m",
            "\u001b[0;31mNameError\u001b[0m                                 Traceback (most recent call last)",
            "\u001b[0;32m<ipython-input-11-c0dc1df74052>\u001b[0m in \u001b[0;36m<cell line: 19>\u001b[0;34m()\u001b[0m\n\u001b[1;32m     17\u001b[0m     \u001b[0mprint\u001b[0m\u001b[0;34m(\u001b[0m\u001b[0;34mf\"La mediana de la lista es: {mediana}\"\u001b[0m\u001b[0;34m)\u001b[0m\u001b[0;34m\u001b[0m\u001b[0;34m\u001b[0m\u001b[0m\n\u001b[1;32m     18\u001b[0m \u001b[0;34m\u001b[0m\u001b[0m\n\u001b[0;32m---> 19\u001b[0;31m \u001b[0mmedmed\u001b[0m\u001b[0;34m(\u001b[0m\u001b[0mlista\u001b[0m\u001b[0;34m)\u001b[0m\u001b[0;34m\u001b[0m\u001b[0;34m\u001b[0m\u001b[0m\n\u001b[0m",
            "\u001b[0;32m<ipython-input-11-c0dc1df74052>\u001b[0m in \u001b[0;36mmedmed\u001b[0;34m(lista)\u001b[0m\n\u001b[1;32m      1\u001b[0m \u001b[0;32mdef\u001b[0m \u001b[0mmedmed\u001b[0m\u001b[0;34m(\u001b[0m\u001b[0mlista\u001b[0m\u001b[0;34m)\u001b[0m\u001b[0;34m:\u001b[0m\u001b[0;34m\u001b[0m\u001b[0;34m\u001b[0m\u001b[0m\n\u001b[1;32m      2\u001b[0m     \u001b[0mlista\u001b[0m\u001b[0;34m=\u001b[0m\u001b[0;34m[\u001b[0m\u001b[0;34m]\u001b[0m\u001b[0;34m\u001b[0m\u001b[0;34m\u001b[0m\u001b[0m\n\u001b[0;32m----> 3\u001b[0;31m     \u001b[0mtam\u001b[0m\u001b[0;34m=\u001b[0m\u001b[0mvalidar_num\u001b[0m\u001b[0;34m(\u001b[0m\u001b[0;34m\"Ingresa el tamaño de tu lista: \"\u001b[0m\u001b[0;34m)\u001b[0m\u001b[0;34m\u001b[0m\u001b[0;34m\u001b[0m\u001b[0m\n\u001b[0m\u001b[1;32m      4\u001b[0m     \u001b[0;32mfor\u001b[0m \u001b[0mi\u001b[0m \u001b[0;32min\u001b[0m \u001b[0mrange\u001b[0m\u001b[0;34m(\u001b[0m\u001b[0mtam\u001b[0m\u001b[0;34m)\u001b[0m\u001b[0;34m:\u001b[0m\u001b[0;34m\u001b[0m\u001b[0;34m\u001b[0m\u001b[0m\n\u001b[1;32m      5\u001b[0m         \u001b[0mnum\u001b[0m\u001b[0;34m=\u001b[0m\u001b[0mvalidar_num\u001b[0m\u001b[0;34m(\u001b[0m\u001b[0;34mf\"Ingresa el elemento {i+1} a tu lista: \"\u001b[0m\u001b[0;34m)\u001b[0m\u001b[0;34m\u001b[0m\u001b[0;34m\u001b[0m\u001b[0m\n",
            "\u001b[0;31mNameError\u001b[0m: name 'validar_num' is not defined"
          ]
        }
      ]
    },
    {
      "cell_type": "markdown",
      "source": [
        "6.-Escribe una función que calcule la media móvil de una lista de números enteros. La media móvil es el promedio de un número determinado de elementos consecutivos de la lista. Puedes utilizar unciclo y una variable de suma para calcular la media móvil de cada sublista y guardar los resultados en otra lista."
      ],
      "metadata": {
        "id": "i6CFyYpRTCo5"
      }
    },
    {
      "cell_type": "code",
      "source": [
        "def mediamovil(lista,n):\n",
        "    lista=[]\n",
        "    tam=validar_num(\"Ingresa el tamaño de tu lista:\")\n",
        "    for i in range(tam):\n",
        "        num=validar_num(f\"Ingresa el elemento {i+1} de tu lista (entero): \")\n",
        "        lista.append(num)\n",
        "    n=validar_num(\"Ingresa el numero de elementos de los que quieres la media movil: \")\n",
        "    listameds=[]\n",
        "    for i in range(len(lista)-n+1):\n",
        "        sum=0\n",
        "        print(f\"Sublista {i+1}: {lista[i:i+n]}\")\n",
        "        suma=sum(lista[i:i+n: ])\n",
        "        print(f\"La media movil de la sublista {i+1} es: {suma/n}\")\n",
        "        listameds.append(suma/n)\n",
        "    return listameds\n",
        "    print(f\"Lista de media movil: {listameds}\")\n",
        "\n",
        "mediamovil(lista,n)"
      ],
      "metadata": {
        "colab": {
          "base_uri": "https://localhost:8080/",
          "height": 210
        },
        "id": "Ke2goqUUTsNF",
        "outputId": "e27c0264-0dbf-41cd-e412-e0b2e300d6ae"
      },
      "execution_count": null,
      "outputs": [
        {
          "output_type": "error",
          "ename": "NameError",
          "evalue": "ignored",
          "traceback": [
            "\u001b[0;31m---------------------------------------------------------------------------\u001b[0m",
            "\u001b[0;31mNameError\u001b[0m                                 Traceback (most recent call last)",
            "\u001b[0;32m<ipython-input-12-2bfa0219dd54>\u001b[0m in \u001b[0;36m<cell line: 18>\u001b[0;34m()\u001b[0m\n\u001b[1;32m     16\u001b[0m     \u001b[0mprint\u001b[0m\u001b[0;34m(\u001b[0m\u001b[0;34mf\"Lista de media movil: {listameds}\"\u001b[0m\u001b[0;34m)\u001b[0m\u001b[0;34m\u001b[0m\u001b[0;34m\u001b[0m\u001b[0m\n\u001b[1;32m     17\u001b[0m \u001b[0;34m\u001b[0m\u001b[0m\n\u001b[0;32m---> 18\u001b[0;31m \u001b[0mmediamovil\u001b[0m\u001b[0;34m(\u001b[0m\u001b[0mlista\u001b[0m\u001b[0;34m,\u001b[0m\u001b[0mn\u001b[0m\u001b[0;34m)\u001b[0m\u001b[0;34m\u001b[0m\u001b[0;34m\u001b[0m\u001b[0m\n\u001b[0m",
            "\u001b[0;31mNameError\u001b[0m: name 'n' is not defined"
          ]
        }
      ]
    }
  ]
}