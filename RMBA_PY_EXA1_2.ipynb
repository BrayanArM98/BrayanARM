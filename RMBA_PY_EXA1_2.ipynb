{
  "nbformat": 4,
  "nbformat_minor": 0,
  "metadata": {
    "colab": {
      "provenance": [],
      "include_colab_link": true
    },
    "kernelspec": {
      "name": "python3",
      "display_name": "Python 3"
    },
    "language_info": {
      "name": "python"
    }
  },
  "cells": [
    {
      "cell_type": "markdown",
      "metadata": {
        "id": "view-in-github",
        "colab_type": "text"
      },
      "source": [
        "<a href=\"https://colab.research.google.com/github/BrayanArM98/Python/blob/main/RMBA_PY_EXA1_2.ipynb\" target=\"_parent\"><img src=\"https://colab.research.google.com/assets/colab-badge.svg\" alt=\"Open In Colab\"/></a>"
      ]
    },
    {
      "cell_type": "markdown",
      "source": [
        "Escribe una funcion de Python en collaboratory que realice lo siguiente:\n",
        "\n",
        "funcion que retorne el factorial de un numero dado\n",
        "\n",
        "Escribir codigo que mande llamar la funcion y desplegar el resultado,\n",
        "\n",
        "Escribir enlace a GITHUB a un dcto que se llame INICIALES_PY_exa1"
      ],
      "metadata": {
        "id": "cG39IPAq7iRG"
      }
    },
    {
      "cell_type": "code",
      "execution_count": 1,
      "metadata": {
        "colab": {
          "base_uri": "https://localhost:8080/"
        },
        "id": "gZEdXpNR1k5P",
        "outputId": "1f28e238-20a9-4639-b65b-01b917769761"
      },
      "outputs": [
        {
          "output_type": "stream",
          "name": "stdout",
          "text": [
            "Ingresa el numero del que desea el factorial: 8\n",
            "7 x 8\n",
            "6 x 56\n",
            "5 x 336\n",
            "4 x 1680\n",
            "3 x 6720\n",
            "2 x 20160\n",
            "1 x 40320\n",
            "El factorial de 8 es 40320\n"
          ]
        }
      ],
      "source": [
        "def factorial():\n",
        "    try:\n",
        "        i=0\n",
        "        num=int(input(\"Ingresa el numero del que desea el factorial: \"))\n",
        "        numant=num\n",
        "        sig=num-1\n",
        "        while i<num-1:\n",
        "            fact=numant*sig\n",
        "            print(f\"{sig} x {numant}\")\n",
        "            numant=fact\n",
        "            sig=sig-1\n",
        "            i+=1\n",
        "        print(f\"El factorial de {num} es {fact}\")\n",
        "    except:\n",
        "        print(\"ERROR: El valor ingresado debe de ser un numero\")\n",
        "factorial()"
      ]
    }
  ]
}