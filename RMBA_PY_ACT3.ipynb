{
  "cells": [
    {
      "cell_type": "markdown",
      "metadata": {
        "id": "view-in-github",
        "colab_type": "text"
      },
      "source": [
        "<a href=\"https://colab.research.google.com/github/BrayanArM98/BrayanARM/blob/main/RMBA_PY_ACT3.ipynb\" target=\"_parent\"><img src=\"https://colab.research.google.com/assets/colab-badge.svg\" alt=\"Open In Colab\"/></a>"
      ]
    },
    {
      "cell_type": "markdown",
      "metadata": {
        "id": "3DDn3kokBp9z"
      },
      "source": [
        "# ACTIVIDAD 3"
      ]
    },
    {
      "cell_type": "markdown",
      "metadata": {
        "id": "bF0m-27KCXRI"
      },
      "source": [
        "\n",
        "1.- Algoritmo que lea 3 calificaciones calcule el promedio del alumno y desplegar:"
      ]
    },
    {
      "cell_type": "code",
      "execution_count": null,
      "metadata": {
        "colab": {
          "base_uri": "https://localhost:8080/"
        },
        "id": "vxbPE8I3Ch_3",
        "outputId": "d7e49713-b052-4db7-8d9d-1f642b402c0a"
      },
      "outputs": [
        {
          "name": "stdout",
          "output_type": "stream",
          "text": [
            "Introduce una calificación: 60\n",
            "Introduce una calificación: 50\n",
            "Introduce una calificación: 80\n",
            "La calificación del alumno de acuerdo a su promedio es Suficiente.\n"
          ]
        }
      ],
      "source": [
        "def calcular_promedio(calificaciones):\n",
        "\n",
        "\n",
        "  if not calificaciones:\n",
        "    return 0\n",
        "\n",
        "  suma_calificaciones = sum(calificaciones)\n",
        "\n",
        "  promedio = suma_calificaciones / len(calificaciones)\n",
        "\n",
        "  return promedio\n",
        "def evaluar_promedio(promedio):\n",
        "\n",
        "  if promedio < 30:\n",
        "    return \"Repetir\"\n",
        "  elif promedio >= 30 and promedio < 60:\n",
        "    return \"Extraordinario\"\n",
        "  elif promedio >= 60 and promedio < 70:\n",
        "    return \"Suficiente\"\n",
        "  elif promedio >= 70 and promedio < 80:\n",
        "    return \"Regular\"\n",
        "  elif promedio >= 80 and promedio < 90:\n",
        "    return \"Bien\"\n",
        "  elif promedio >= 90 and promedio < 98:\n",
        "    return \"Muy bien\"\n",
        "  elif promedio >= 98 and promedio < 100:\n",
        "    return \"Excelente\"\n",
        "  else:\n",
        "    return \"Error en promedio\"\n",
        "def main():\n",
        "\n",
        "  calificaciones = [float(input(\"Introduce una calificación: \")) for _ in range(3)]\n",
        "\n",
        "  promedio = calcular_promedio(calificaciones)\n",
        "\n",
        "  calificacion = evaluar_promedio(promedio)\n",
        "  print(f\"La calificación del alumno de acuerdo a su promedio es {calificacion}.\")\n",
        "if __name__ == \"__main__\":\n",
        "  main()\n"
      ]
    },
    {
      "cell_type": "markdown",
      "metadata": {
        "id": "RX-bulY_CiZ_"
      },
      "source": [
        "2.- Algoritmo que sirva para calcular el salario semanal de un trabajador donde se obtiene como dato de entrada las horas semanales trabajadas, el salario por hora.\n",
        "\n",
        "El programa deberá calcular el salario normal, salario extra y salario total, considerando lo siguiente:\n",
        "\n",
        "Jornada Normal de 40 horas.\n",
        "El salario normal se considera las horas trabajadas menores o igual a la jornada normal\n",
        "Salario extra se considera las horas trabajadas mayores a la jornada normal y se pagan dobles las primeras 9 y triples a partir de la décima hora extra\n",
        "\n",
        "\n",
        "Nota: Desplegar todos los datos (Salario x hora, Horas Trabajadas, Salario normal, Salario extra y Salario Total)\n",
        "\n"
      ]
    },
    {
      "cell_type": "code",
      "execution_count": null,
      "metadata": {
        "colab": {
          "base_uri": "https://localhost:8080/"
        },
        "id": "JavgM1hSCixP",
        "outputId": "4bb4fb6c-5ad7-4575-e12f-6e194c5539cb"
      },
      "outputs": [
        {
          "name": "stdout",
          "output_type": "stream",
          "text": [
            "Horas que se trabajaron: 6\n",
            "Salario por hora: 48\n",
            "Salario por hora: 48.0\n",
            "Horas que se trabajaron: 6.0\n",
            "Salario Normal: 288.0\n",
            "Salario Extra: 0\n",
            "Salario Total: 288.0\n"
          ]
        }
      ],
      "source": [
        "\n",
        "horas_trabajadas = float(input(\"Horas que se trabajaron: \"))\n",
        "salario_por_hora = float(input(\"Salario por hora: \"))\n",
        "\n",
        "salario_normal = salario_por_hora * min(horas_trabajadas, 40)\n",
        "\n",
        "salario_extra = 0\n",
        "if horas_trabajadas > 40:\n",
        "    salario_extra = salario_por_hora * 2 * min(horas_trabajadas - 40, 9)\n",
        "    salario_extra += salario_por_hora * 3 * (horas_trabajadas - 40 - 9)\n",
        "\n",
        "salario_total = salario_normal + salario_extra\n",
        "\n",
        "print(\"Salario por hora:\", salario_por_hora)\n",
        "print(\"Horas que se trabajaron:\", horas_trabajadas)\n",
        "print(\"Salario Normal:\", salario_normal)\n",
        "print(\"Salario Extra:\", salario_extra)\n",
        "print(\"Salario Total:\", salario_total)"
      ]
    },
    {
      "cell_type": "markdown",
      "metadata": {
        "id": "sZxzLvyeCjnf"
      },
      "source": [
        "3.- Algoritmo que sirva para desplegar el Total de una llamada telefónica donde se pide como datos de entrada los minutos y el tipo de llamada, se cobra de la siguiente manera:\n",
        "\n",
        "1.- Llamada Local $3.00 sin límite de tiempo\n",
        "\n",
        "2.- Llamada Nacional $7.00 por los primeros 3 minutos  $2.00 minuto adicional\n",
        "\n",
        "3.- Llamada Internacional $9.00 por los 2 primeros minutos y $4.00 minuto adicional\n",
        "\n",
        " Desplegar, Subtotal,Iva (16%) y Total."
      ]
    },
    {
      "cell_type": "code",
      "execution_count": null,
      "metadata": {
        "colab": {
          "base_uri": "https://localhost:8080/"
        },
        "id": "1OCCLPQACj_-",
        "outputId": "7fa041c1-a285-4c85-caad-d732e9484802"
      },
      "outputs": [
        {
          "name": "stdout",
          "output_type": "stream",
          "text": [
            "MINUTOS: 50\n",
            "TIPO DE LLAMADA (Local, Nacional, Internacional): Nacional\n",
            "SUBTOTAL: 101.0\n",
            "IVA: 16.16\n",
            "TOTAL: 117.16\n"
          ]
        }
      ],
      "source": [
        "minutos = int(input(\"MINUTOS: \"))\n",
        "tipo_de_llamada = input(\"TIPO DE LLAMADA (Local, Nacional, Internacional): \")\n",
        "\n",
        "if tipo_de_llamada == \"Local\":\n",
        "    subtotal = 3.00\n",
        "elif tipo_de_llamada == \"Nacional\":\n",
        "    if minutos <= 3:\n",
        "        subtotal = 7.00\n",
        "    else:\n",
        "        subtotal = 7.00 + (minutos - 3) * 2.00\n",
        "elif tipo_de_llamada == \"Internacional\":\n",
        "    if minutos <= 2:\n",
        "        subtotal = 9.00\n",
        "    else:\n",
        "        subtotal = 9.00 + (minutos - 2) * 4.00\n",
        "else:\n",
        "    print(\"TIPO DE LLAMADA NO VALIDADO\")\n",
        "    exit()\n",
        "\n",
        "iva = subtotal * 0.16\n",
        "\n",
        "total = subtotal + iva\n",
        "\n",
        "print(\"SUBTOTAL:\", subtotal)\n",
        "print(\"IVA:\", iva)\n",
        "print(\"TOTAL:\", total)"
      ]
    },
    {
      "cell_type": "markdown",
      "metadata": {
        "id": "Y1FsXnw2CkcP"
      },
      "source": [
        "4.-Algoritmo que sirva para calcular el Total a pagar por consumo de agua, donde el dato de entrada son los M3 de agua consumidos, Tomar en cuenta que se cobra escalonada de la Siguiente manera:\n",
        "\n",
        "Rango1: 0 al 4 M3 $50 x facturación sin importar cuánto consumió en este rango\n",
        "\n",
        "Rango2: 5 a 15 M3 $8.00 x M3\n",
        "\n",
        "Rango3: 16 a 50 M3 $10.00 x M3\n",
        "\n",
        "Rango4: 51 M3 en adelante $11.00 x M3\n",
        "\n",
        "Nota: Desplegar SubTotal, Iva(16%), y Total a pagar.\n",
        "\n"
      ]
    },
    {
      "cell_type": "code",
      "execution_count": null,
      "metadata": {
        "colab": {
          "base_uri": "https://localhost:8080/"
        },
        "id": "MOdiipzCCpOw",
        "outputId": "d75aa413-962e-4ea6-9dbc-81b0889ae681"
      },
      "outputs": [
        {
          "name": "stdout",
          "output_type": "stream",
          "text": [
            "INGRESE EL VALOR DE LOS M3 CONSUMIDOS: 67\n",
            "SUBTOTAL:  295.8\n",
            "IVA:  47.33\n",
            "TOTAL A PAGAR:  343.13\n"
          ]
        }
      ],
      "source": [
        "m3 = int(input(\"INGRESE EL VALOR DE LOS M3 CONSUMIDOS: \"))\n",
        "\n",
        "rango1 = 0\n",
        "rango2 = 5\n",
        "rango3 = 16\n",
        "rango4 = 51\n",
        "valor_de_rango1 = 50\n",
        "valor_de_rango2 = 8.00\n",
        "valor_de_rango3 = 10.00\n",
        "valor_de_rango4 = 11.00\n",
        "\n",
        "def calcular_valor_a_pagar(m3):\n",
        "    if m3 <= rango1:\n",
        "        return m3 * valor_de_rango1\n",
        "    elif m3 <= rango2:\n",
        "        return (m3 - rango1) * valor_de_rango2 + valor_de_rango1\n",
        "    elif m3 <= rango3:\n",
        "        return (m3 - rango2) * valor_de_rango3 + valor_de_rango2 + valor_de_rango1\n",
        "    elif m3 <= rango4:\n",
        "        return (m3 - rango3) * valor_de_rango4 + valor_de_rango3 + valor_de_rango2 + valor_de_rango1\n",
        "    else:\n",
        "        return (m3 - rango4) * valor_de_rango4 + valor_de_rango3 + valor_de_rango2 + valor_de_rango1 + valor_de_rango4\n",
        "\n",
        "\n",
        "valor_a_pagar = calcular_valor_a_pagar(m3)\n",
        "\n",
        "\n",
        "def calcular_total(valor_a_pagar):\n",
        "    subtotal = valor_a_pagar * 1.16\n",
        "    iva = subtotal * 0.16\n",
        "    total = subtotal + iva\n",
        "    return subtotal, iva, total\n",
        "\n",
        "\n",
        "subtotal, iva, total = calcular_total(valor_a_pagar)\n",
        "\n",
        "\n",
        "print(\"SUBTOTAL: \", round(subtotal, 2))\n",
        "print(\"IVA: \", round(iva, 2))\n",
        "print(\"TOTAL A PAGAR: \", round(total, 2))\n"
      ]
    },
    {
      "cell_type": "markdown",
      "metadata": {
        "id": "NqONvl4fCprm"
      },
      "source": [
        "5.-En la materia de Metodología de la programación se aplican 5 exámenes, calcular el promedio final de la materia donde la calificación menor de los exámenes se anula y el promedio se calcula en base a 4 exámenes.\n",
        "\n",
        "Desplegar el promedio final.\n",
        "\n"
      ]
    },
    {
      "cell_type": "code",
      "execution_count": null,
      "metadata": {
        "colab": {
          "base_uri": "https://localhost:8080/"
        },
        "id": "5omVT9evCqMO",
        "outputId": "7d5596b8-6a50-4b93-e2c3-7793ac802bfb"
      },
      "outputs": [
        {
          "name": "stdout",
          "output_type": "stream",
          "text": [
            "Calificación del primer examen: 9\n",
            "Calificación del segundo examen: 9\n",
            "Calificación del tercer examen: 8\n",
            "Calificación del cuarto examen: 9\n",
            "Calificación del quinto examen: 9\n",
            "PROMEDIO FINAL DE LA MATERIA: 0.75\n"
          ]
        }
      ],
      "source": [
        "examen1 = float(input(\"Calificación del primer examen: \"))\n",
        "\n",
        "examen2 = float(input(\"Calificación del segundo examen: \"))\n",
        "\n",
        "examen3 = float(input(\"Calificación del tercer examen: \"))\n",
        "\n",
        "examen4 = float(input(\"Calificación del cuarto examen: \"))\n",
        "\n",
        "examen5 = float(input(\"Calificación del quinto examen: \"))\n",
        "\n",
        "\n",
        "\n",
        "\n",
        "final_grade = (examen1 + examen2 + examen3 + examen4) / 4\n",
        "\n",
        "\n",
        "\n",
        "\n",
        "if examen1 < examen2 and examen1 < examen3 and examen1 < examen4 and examen1 < examen5:\n",
        "    final_grade -= examen1\n",
        "\n",
        "elif examen2 < examen1 and examen2 < examen3 and examen2 < examen4 and examen2 < examen5:\n",
        "    final_grade -= examen2\n",
        "\n",
        "elif examen3 < examen1 and examen3 < examen2 and examen3 < examen4 and examen3 < examen5:\n",
        "    final_grade -= examen3\n",
        "\n",
        "elif examen4 < examen1 and examen4 < examen2 and examen4 < examen3 and examen4 < examen5:\n",
        "    final_grade -= examen4\n",
        "\n",
        "elif examen5 < examen1 and examen5 < examen2 and examen5 < examen3 and examen5 < examen4:\n",
        "    final_grade -= examen5\n",
        "\n",
        "\n",
        "print(\"PROMEDIO FINAL DE LA MATERIA:\", final_grade)\n",
        "\n"
      ]
    },
    {
      "cell_type": "markdown",
      "metadata": {
        "id": "GaUOxW1cCqv4"
      },
      "source": [
        "6.-Algoritmo que sirva para el juego del CHINCHAMPU (Piedra, Papel, Tijera) para 1 jugador y la computadora, (usando condición anidada)\n",
        "\n",
        "\n",
        "\n"
      ]
    },
    {
      "cell_type": "code",
      "execution_count": null,
      "metadata": {
        "colab": {
          "base_uri": "https://localhost:8080/"
        },
        "id": "sPAnu__TCrTW",
        "outputId": "c31f24f8-ea8b-4b8f-f300-62620ebcaea7"
      },
      "outputs": [
        {
          "name": "stdout",
          "output_type": "stream",
          "text": [
            "ELIGE UNA DE LAS OPCIÓNES: PIEDRA, PAPEL o TIJERA: TIJERA\n",
            "Tú elegiste: TIJERA\n",
            "La computadora eligió: PAPEL\n",
            "Perdiste!\n"
          ]
        }
      ],
      "source": [
        "import random\n",
        "def chinchampu():\n",
        "\n",
        "  opciones = [\"PIEDRA\", \"PAPEL\", \"TIJERA\"]\n",
        "\n",
        "  jugador = input(\"ELIGE UNA DE LAS OPCIÓNES: PIEDRA, PAPEL o TIJERA: \")\n",
        "\n",
        "  computadora = random.choice(opciones)\n",
        "\n",
        "  print(\"Tú elegiste:\", jugador)\n",
        "  print(\"La computadora eligió:\", computadora)\n",
        "\n",
        "  if jugador == computadora:\n",
        "    print(\"Empate!\")\n",
        "  elif jugador == \"piedra\" and computadora == \"tijera\":\n",
        "    print(\"Ganaste!\")\n",
        "  elif jugador == \"papel\" and computadora == \"piedra\":\n",
        "    print(\"Ganaste!\")\n",
        "  elif jugador == \"tijera\" and computadora == \"papel\":\n",
        "    print(\"Ganaste!\")\n",
        "  else:\n",
        "    print(\"Perdiste!\")\n",
        "\n",
        "chinchampu()"
      ]
    },
    {
      "cell_type": "markdown",
      "metadata": {
        "id": "wze1FMFMC_pN"
      },
      "source": [
        " 7.-Algoritmo que sirva para el juego del CHINCHAMPU (Piedra, Papel, Tijera) para 1 jugador y la computadora, (usando selección múltiple)"
      ]
    },
    {
      "cell_type": "code",
      "execution_count": null,
      "metadata": {
        "colab": {
          "background_save": true,
          "base_uri": "https://localhost:8080/"
        },
        "id": "G3_bSLmXC_7c",
        "outputId": "1984c183-7e18-495c-d65c-9312ecfca70c"
      },
      "outputs": [
        {
          "name": "stdout",
          "output_type": "stream",
          "text": [
            "Tú elegiste: tijera\n",
            "La computadora eligió: PAPEL\n",
            "YOU LOSER!\n"
          ]
        }
      ],
      "source": [
        "import random\n",
        "def chinchampu():\n",
        "\n",
        "    opciones = [\"PIEDRA\", \"PAPEL\", \"TIJERA\"]\n",
        "\n",
        "    jugador = input(\"ELIGE ALGUNA DE LAS OPCIONES: PIEDRA, PAPEL O TIJERA: \")\n",
        "\n",
        "    computadora = random.choice(opciones)\n",
        "\n",
        "    print(\"Tú elegiste:\", jugador)\n",
        "    print(\"La computadora eligió:\", computadora)\n",
        "\n",
        "    if jugador == computadora:\n",
        "        print(\"TIE!\")\n",
        "    elif jugador == \"piedra\" and computadora == \"tijera\":\n",
        "        print(\"YOU WIN!\")\n",
        "    elif jugador == \"papel\" and computadora == \"piedra\":\n",
        "        print(\"YOU WIN!\")\n",
        "    elif jugador == \"tijera\" and computadora == \"papel\":\n",
        "        print(\"YOU WIN!\")\n",
        "    else:\n",
        "        print(\"YOU LOSER!\")\n",
        "\n",
        "while True:\n",
        "    chinchampu()\n",
        "    opcion = input(\"¿Quieres volver a juagar,para volver a ganar? (s/n): \")\n",
        "    if opcion == \"n\":\n",
        "        break"
      ]
    },
    {
      "cell_type": "markdown",
      "metadata": {
        "id": "1vxc5OuuDAO8"
      },
      "source": [
        "8.-Una tienda de electrónica ofrece descuentos a sus clientes, dependiendo del tipo de producto que compren. Si el cliente compra una computadora, tiene un descuento del 5% en el precio de la computadora y un 10% de descuento en una impresora si la compra junto con la computadora. Si el cliente compra una televisión, tiene un descuento del 7% en el precio de la televisión y un 15% de descuento en una barra de sonido si la compra junto con la televisión. Si el cliente compra una consola de videojuegos, tiene un descuento del 10% en el precio de la consola y un 20% de descuento en un juego si lo compra junto con la consola. Escribe un programa que calcule el precio a pagar por un cliente, tomando en cuenta los descuentos correspondientes.\n",
        "\n"
      ]
    },
    {
      "cell_type": "code",
      "execution_count": null,
      "metadata": {
        "colab": {
          "base_uri": "https://localhost:8080/"
        },
        "id": "a_-uc5rLDAf0",
        "outputId": "64e1ebae-7278-454f-bdf0-6961ae169631"
      },
      "outputs": [
        {
          "name": "stdout",
          "output_type": "stream",
          "text": [
            "Ingresa los productos: barra de sonido,juego\n",
            "Ingresa el tipo de producto que compraste (o deja en blanco si no compraste uno): barra de sonido\n",
            "El precio a pagar es: $3060.00\n"
          ]
        }
      ],
      "source": [
        "def calcular_precio_descuento(producto, accesorio):\n",
        "    precios = {\n",
        "        \"computadora\": 18000,\n",
        "        \"impresora\": 2500,\n",
        "        \"televisión\": 13000,\n",
        "        \"barra de sonido\": 3600,\n",
        "        \"consola de videojuegos\": 8900,\n",
        "        \"juego\": 60\n",
        "    }\n",
        "\n",
        "    descuentos = {\n",
        "        \"computadora\": 0.05,\n",
        "        \"impresora\": 0.10,\n",
        "        \"televisión\": 0.07,\n",
        "        \"barra de sonido\": 0.15,\n",
        "        \"consola de videojuegos\": 0.10,\n",
        "        \"juego\": 0.20\n",
        "    }\n",
        "\n",
        "    total = precios.get(producto, 0) + precios.get(accesorio, 0)\n",
        "    descuento_total = total * (descuentos.get(producto, 0) + descuentos.get(accesorio, 0))\n",
        "\n",
        "    precio_final = total - descuento_total\n",
        "    return precio_final\n",
        "\n",
        "producto = input(\"Ingresa los productos: \").lower()\n",
        "accesorio = input(\"Ingresa el tipo de producto que compraste (o deja en blanco si no compraste uno): \").lower()\n",
        "\n",
        "precio_final = calcular_precio_descuento(producto, accesorio)\n",
        "\n",
        "print(f\"El precio a pagar es: ${precio_final:.2f}\")\n"
      ]
    },
    {
      "cell_type": "markdown",
      "metadata": {
        "id": "hXPxdq1eDbtD"
      },
      "source": [
        "9.- En una tienda de ropa, los precios de los productos cambian dependiendo de la temporada. Durante la temporada de verano, todos los productos tienen un descuento del 20%. Durante la temporada de invierno, los productos con etiqueta roja tienen un descuento del 30% y los productos con etiqueta verde tienen un descuento del 15%. Durante la temporada de primavera y otoño, los productos con etiqueta amarilla tienen un descuento del 10%. Escribe un programa que calcule el precio a pagar por un cliente, tomando en cuenta los descuentos correspondientes."
      ]
    },
    {
      "cell_type": "code",
      "execution_count": null,
      "metadata": {
        "colab": {
          "base_uri": "https://localhost:8080/"
        },
        "id": "HIt4xsmvDlI6",
        "outputId": "9b2eb6a7-6c14-4268-e621-b76ac82fd6a0"
      },
      "outputs": [
        {
          "name": "stdout",
          "output_type": "stream",
          "text": [
            "Ingrese la temporada (verano, invierno, primavera o otoño): verano\n",
            "Ingrese la etiqueta del producto (roja, verde o amarilla): verde\n",
            "Ingrese el precio: 200\n",
            "El precio a pagar es: $160.00\n"
          ]
        }
      ],
      "source": [
        "def calcular_precio_descuento(temporada, etiqueta, precio):\n",
        "    descuentos = {\n",
        "        \"verano\": 0.20,\n",
        "        \"invierno\": {\"roja\": 0.30, \"verde\": 0.15},\n",
        "        \"primavera\": {\"amarilla\": 0.10},\n",
        "        \"otoño\": {\"amarilla\": 0.10}\n",
        "    }\n",
        "\n",
        "    if temporada == \"verano\":\n",
        "        descuento_temporada = descuentos[temporada]\n",
        "    elif temporada in [\"primavera\", \"otoño\"] and etiqueta in descuentos[temporada]:\n",
        "        descuento_temporada = descuentos[temporada][etiqueta]\n",
        "    elif temporada == \"invierno\" and etiqueta in descuentos[temporada]:\n",
        "        descuento_temporada = descuentos[temporada][etiqueta]\n",
        "    else:\n",
        "        descuento_temporada = 0\n",
        "\n",
        "    precio_final = precio - (precio * descuento_temporada)\n",
        "    return precio_final\n",
        "\n",
        "temporada = input(\"Ingrese la temporada (verano, invierno, primavera o otoño): \").lower()\n",
        "etiqueta = input(\"Ingrese la etiqueta del producto (roja, verde o amarilla): \").lower()\n",
        "precio = float(input(\"Ingrese el precio: \"))\n",
        "\n",
        "precio_final = calcular_precio_descuento(temporada, etiqueta, precio)\n",
        "\n",
        "print(f\"El precio a pagar es: ${precio_final:.2f}\")\n"
      ]
    },
    {
      "cell_type": "markdown",
      "metadata": {
        "id": "G46mlQv1Dlbq"
      },
      "source": [
        "10.- Un restaurante ofrece descuentos a sus clientes, dependiendo del día de la semana y del tipo de menú que pidan. Los lunes, los clientes que pidan el menú del día tienen un descuento del 10%. Los martes, los clientes que pidan el menú infantil tienen un descuento del 20%. Los miércoles, los clientes que pidan el menú vegetariano tienen un descuento del 15%. Los jueves, los clientes que pidan el menú del chef tienen un descuento del 5%. Los viernes, los clientes que pidan el menú del día tienen un descuento del 5%. Los sábados y domingos no hay descuentos. Escribe un programa que calcule el precio a pagar por un cliente, tomando en cuenta los descuentos correspondientes."
      ]
    },
    {
      "cell_type": "code",
      "execution_count": null,
      "metadata": {
        "colab": {
          "base_uri": "https://localhost:8080/"
        },
        "id": "M-os1BvKDl2a",
        "outputId": "8b900f04-dbe5-4c0b-80d7-6673dd2ad8b1"
      },
      "outputs": [
        {
          "name": "stdout",
          "output_type": "stream",
          "text": [
            "Ingrese el día de la semana: lunes\n",
            "Ingrese el tipo de menú (menú del día, menú infantil, menú vegetariano o menú del chef): menú del chef\n",
            "Ingrese el precio del menú: 200\n",
            "El precio a pagar es: $200.00\n"
          ]
        }
      ],
      "source": [
        "def calcular_precio_descuento(dia, menu, precio):\n",
        "    descuentos = {\n",
        "        \"lunes\": {\"menú del día\": 0.10},\n",
        "        \"martes\": {\"menú infantil\": 0.20},\n",
        "        \"miércoles\": {\"menú vegetariano\": 0.15},\n",
        "        \"jueves\": {\"menú del chef\": 0.05},\n",
        "        \"viernes\": {\"menú del día\": 0.05}\n",
        "    }\n",
        "\n",
        "    if dia in descuentos and menu in descuentos[dia]:\n",
        "        descuento_dia = descuentos[dia][menu]\n",
        "    else:\n",
        "        descuento_dia = 0\n",
        "\n",
        "    precio_final = precio - (precio * descuento_dia)\n",
        "    return precio_final\n",
        "\n",
        "dia = input(\"Ingrese el día de la semana: \").lower()\n",
        "menu = input(\"Ingrese el tipo de menú (menú del día, menú infantil, menú vegetariano o menú del chef): \").lower()\n",
        "precio = float(input(\"Ingrese el precio del menú: \"))\n",
        "\n",
        "precio_final = calcular_precio_descuento(dia, menu, precio)\n",
        "\n",
        "print(f\"El precio a pagar es: ${precio_final:.2f}\")\n"
      ]
    }
  ],
  "metadata": {
    "colab": {
      "provenance": [],
      "authorship_tag": "ABX9TyNDcjdoqt3FEim2bGaUbvgv",
      "include_colab_link": true
    },
    "kernelspec": {
      "display_name": "Python 3",
      "name": "python3"
    },
    "language_info": {
      "name": "python"
    }
  },
  "nbformat": 4,
  "nbformat_minor": 0
}