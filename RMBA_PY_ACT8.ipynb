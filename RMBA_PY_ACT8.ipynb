{
  "nbformat": 4,
  "nbformat_minor": 0,
  "metadata": {
    "colab": {
      "provenance": [],
      "authorship_tag": "ABX9TyNV0tB6RZ5ip7LQ+02aRbHj",
      "include_colab_link": true
    },
    "kernelspec": {
      "name": "python3",
      "display_name": "Python 3"
    },
    "language_info": {
      "name": "python"
    }
  },
  "cells": [
    {
      "cell_type": "markdown",
      "metadata": {
        "id": "view-in-github",
        "colab_type": "text"
      },
      "source": [
        "<a href=\"https://colab.research.google.com/github/BrayanArM98/Python/blob/main/RMBA_PY_ACT8.ipynb\" target=\"_parent\"><img src=\"https://colab.research.google.com/assets/colab-badge.svg\" alt=\"Open In Colab\"/></a>"
      ]
    },
    {
      "cell_type": "markdown",
      "source": [
        "# ACTIVIDAD 8"
      ],
      "metadata": {
        "id": "MuR7eFH9yLzL"
      }
    },
    {
      "cell_type": "markdown",
      "source": [
        "1.- Programa en python que genere un número entre el 1 y 10 (no visible)  preguntarle al usuario que número cree que generó la computadora, el usuario tendrá 3 oportunidades de adivinar.\n",
        "\n",
        "Decir si adivino o si falló en sus 3 intentos."
      ],
      "metadata": {
        "id": "YxZewN6tyVs-"
      }
    },
    {
      "cell_type": "code",
      "source": [
        "import random\n",
        "def validar_num(mensaje):\n",
        "    while True:\n",
        "        try:\n",
        "            num = int(input(mensaje + \" \"))\n",
        "            return num\n",
        "        except ValueError:\n",
        "            print(\"Por favor, ingresa un número válido.\")\n",
        "\n",
        "print(\"BIENVENIDO\")\n",
        "op = 0\n",
        "g = 0\n",
        "p = 0\n",
        "while op != 2:\n",
        "    print(\"Ready to play?\")\n",
        "    print(\"1- SI\")\n",
        "    op = validar_num(\"2- NO, SALIR\")\n",
        "    if op == 2:\n",
        "        break\n",
        "    num = random.randint(1, 10)\n",
        "    print(\"NUMERO GENERADO\")\n",
        "    i = 0\n",
        "    while i != 3:\n",
        "        numu = validar_num(\"Que numero crees que genere?\")\n",
        "        if numu != num:\n",
        "            print(f\"Ese numero no es, este es tu intento {i+1} \")\n",
        "            i += 1\n",
        "            if i == 3:\n",
        "                print(\"Lo siento, se agotaron los intentos. PERDISTE\")\n",
        "                print(f\"El numero era {num} :( \")\n",
        "                p += 1\n",
        "                break\n",
        "        if numu == num:\n",
        "            print(\"Felicidades! Ganaste:)\")\n",
        "            g += 1\n",
        "            break\n",
        "\n",
        "print(f\"GRACIAS POR JUGAR\")\n",
        "print(f\"GANASTE {g} VECES\")\n",
        "print(f\"PERDISTE {p} VECES\")\n",
        "\n",
        "\n"
      ],
      "metadata": {
        "colab": {
          "base_uri": "https://localhost:8080/"
        },
        "id": "tmHCIjtkyWw6",
        "outputId": "807f61d4-44d0-4b00-808d-b05833c1b42f"
      },
      "execution_count": null,
      "outputs": [
        {
          "output_type": "stream",
          "name": "stdout",
          "text": [
            "BIENVENIDO\n",
            "Ready to play?\n",
            "1- SI\n",
            "2- NO, SALIR 1\n",
            "NUMERO GENERADO\n",
            "Que numero crees que genere? 9\n",
            "Ese numero no es, este es tu intento 1 \n",
            "Que numero crees que genere? 6\n",
            "Ese numero no es, este es tu intento 2 \n",
            "Que numero crees que genere? 9\n",
            "Ese numero no es, este es tu intento 3 \n",
            "Lo siento, se agotaron los intentos. PERDISTE\n",
            "El numero era 4 :( \n",
            "Ready to play?\n",
            "1- SI\n",
            "2- NO, SALIR 2\n",
            "GRACIAS POR JUGAR\n",
            "GANASTE 0 VECES\n",
            "PERDISTE 1 VECES\n"
          ]
        }
      ]
    },
    {
      "cell_type": "markdown",
      "source": [
        "2.- El juego Busca Número muestra una lista de 10 numeros, sin mostrar su contenido, Al usuario se le muestra un número que se generó aleatoriamente y el usuario tendrá 3 intentos de adivinar en qué índice del arreglo se encuentra. El usuario recibirá un mensaje que diga GANASTE, PERDISTE, TIENES UN NUEVO INTENTO. El usuario podrá jugar cuantas veces lo desee."
      ],
      "metadata": {
        "id": "lWj8SaAtyXwk"
      }
    },
    {
      "cell_type": "code",
      "source": [
        "import random\n",
        "from IPython.display import clear_output\n",
        "\n",
        "def validar_num(mensaje):\n",
        "    while True:\n",
        "        try:\n",
        "            num = int(input(mensaje))\n",
        "            return num\n",
        "        except ValueError:\n",
        "            print(\"Por favor, ingresa un número válido.\")\n",
        "\n",
        "def lista_a():\n",
        "    lista = []\n",
        "    for i in range(10):\n",
        "        lista.append(0)\n",
        "    i = 1\n",
        "    while True:\n",
        "        pos = random.randint(0, 9)\n",
        "        if lista[pos] == 0:\n",
        "            lista[pos] = i\n",
        "            i += 1\n",
        "        if i <= 10:\n",
        "            continue\n",
        "        break\n",
        "    return lista\n",
        "\n",
        "op = 1\n",
        "g = 0\n",
        "p = 0\n",
        "\n",
        "while op != 2:\n",
        "    clear_output()\n",
        "    print(\"BIENVENIDO!\")\n",
        "    lista = lista_a()\n",
        "    posnum = random.randint(0, 9)\n",
        "    num = lista[posnum]\n",
        "    i = 0\n",
        "\n",
        "    while i != 3:\n",
        "        print(f\"En qué posición crees que está el número {num}?\")\n",
        "        pos = validar_num(\"Ingresa una posición válida: \")\n",
        "\n",
        "        if lista[pos] == num:\n",
        "            print(\"Felicidades, le atinaste a la posición!\")\n",
        "            print(\" \", end=\"\")\n",
        "            for i in range(10):\n",
        "                print(f\"{i}\", end=\" \")\n",
        "            print(\"\\n\", lista)\n",
        "            g += 1\n",
        "            break\n",
        "\n",
        "        if lista[pos] != num:\n",
        "            print(f\"El número no está en esa posición, este es tu intento {i+1}\")\n",
        "            i += 1\n",
        "\n",
        "        if i == 3:\n",
        "            print(\"Lo siento, se te acabaron los intentos. PERDISTE\")\n",
        "            print(f\"El número se encontraba en la posición {posnum}\")\n",
        "            for i in range(10):\n",
        "                print(f\"{i}\", end=\" \")\n",
        "            print(\"\\n\", lista)\n",
        "            p += 1\n",
        "            break\n",
        "\n",
        "    print(\"Quieres continuar?\")\n",
        "    print(\"1- SI\")\n",
        "    op = validar_num(\"2- NO\")\n",
        "\n",
        "print(\"GRACIAS POR JUGAR\")\n",
        "print(f\"GANASTE {g} VECES\")\n",
        "print(f\"PERDISTE {p} VECES\")\n",
        "\n",
        "\n",
        "\n",
        "\n",
        "\n",
        "\n",
        "\n"
      ],
      "metadata": {
        "colab": {
          "base_uri": "https://localhost:8080/"
        },
        "id": "YdIcZpPfyYS-",
        "outputId": "88b8183f-711d-46f7-8877-787c5b2c68ba"
      },
      "execution_count": null,
      "outputs": [
        {
          "output_type": "stream",
          "name": "stdout",
          "text": [
            "BIENVENIDO!\n",
            "En qué posición crees que está el número 3?\n",
            "Ingresa una posición válida: 4\n",
            "El número no está en esa posición, este es tu intento 1\n",
            "En qué posición crees que está el número 3?\n",
            "Ingresa una posición válida: 3\n",
            "El número no está en esa posición, este es tu intento 2\n",
            "En qué posición crees que está el número 3?\n",
            "Ingresa una posición válida: 9\n",
            "El número no está en esa posición, este es tu intento 3\n",
            "Lo siento, se te acabaron los intentos. PERDISTE\n",
            "El número se encontraba en la posición 0\n",
            "0 1 2 3 4 5 6 7 8 9 \n",
            " [3, 9, 2, 10, 1, 4, 5, 7, 6, 8]\n",
            "Quieres continuar?\n",
            "1- SI\n",
            "2- NO2\n",
            "GRACIAS POR JUGAR\n",
            "GANASTE 0 VECES\n",
            "PERDISTE 1 VECES\n"
          ]
        }
      ]
    },
    {
      "cell_type": "code",
      "source": [
        "import random\n",
        "from IPython.display import clear_output\n",
        "\n",
        "def lista_b():\n",
        "    lista = random.sample(range(1, 11), 10)\n",
        "    return lista\n",
        "\n",
        "def validar_num(mensaje):\n",
        "    while True:\n",
        "        try:\n",
        "            num = int(input(mensaje))\n",
        "            if 0 <= num < 10:\n",
        "                return num\n",
        "            else:\n",
        "                print(\"Ingresa una posición válida (0-9).\")\n",
        "        except ValueError:\n",
        "            print(\"Ingresa un número válido.\")\n",
        "\n",
        "op = 1\n",
        "g = 0\n",
        "p = 0\n",
        "\n",
        "while op != 2:\n",
        "    clear_output()\n",
        "    print(\"BIENVENIDO!\")\n",
        "    lista = lista_b()\n",
        "    posnum = random.randint(0, 9)\n",
        "    num = lista[posnum]\n",
        "    i = 0\n",
        "\n",
        "    while i != 3:\n",
        "        print(f\"En qué posición crees que está el número {num}?\")\n",
        "        pos = validar_num(\"Ingresa una posición válida: \")\n",
        "\n",
        "        if lista[pos] == num:\n",
        "            print(\"¡Felicidades! Adivinaste la posición.\")\n",
        "            print(\"Lista de posiciones: \", end=\"\")\n",
        "            for i in range(10):\n",
        "                print(f\"{i}\", end=\" \")\n",
        "            print(\"\\n\", lista)\n",
        "            g += 1\n",
        "            break\n",
        "        else:\n",
        "            print(f\"El número no está en esa posición. Este es tu intento {i + 1}\")\n",
        "            i += 1\n",
        "\n",
        "        if i == 3:\n",
        "            print(\"Lo siento, se te acabaron los intentos. ¡PERDISTE!\")\n",
        "            print(f\"El número se encontraba en la posición {posnum}\")\n",
        "            print(\"Lista de posiciones: \", end=\"\")\n",
        "            for i in range(10):\n",
        "                print(f\"{i}\", end=\" \")\n",
        "            print(\"\\n\", lista)\n",
        "            p += 1\n",
        "            break\n",
        "\n",
        "    print(\"Quieres continuar?\")\n",
        "    print(\"1- SI\")\n",
        "    op = validar_num(\"2- NO\")\n",
        "\n",
        "print(\"¡GRACIAS POR JUGAR!\")\n",
        "print(f\"GANASTE {g} VECES\")\n",
        "print(f\"PERDISTE {p} VECES\")\n",
        "\n",
        ""
      ],
      "metadata": {
        "id": "lXjsJhn4yZsh",
        "colab": {
          "base_uri": "https://localhost:8080/"
        },
        "outputId": "25e8d363-ed4e-4942-b018-15eba0fa5264"
      },
      "execution_count": 2,
      "outputs": [
        {
          "output_type": "stream",
          "name": "stdout",
          "text": [
            "BIENVENIDO!\n",
            "En qué posición crees que está el número 2?\n",
            "Ingresa una posición válida: 5\n",
            "El número no está en esa posición. Este es tu intento 1\n",
            "En qué posición crees que está el número 2?\n",
            "Ingresa una posición válida: 6\n",
            "¡Felicidades! Adivinaste la posición.\n",
            "Lista de posiciones: 0 1 2 3 4 5 6 7 8 9 \n",
            " [10, 4, 7, 6, 8, 9, 2, 3, 1, 5]\n",
            "Quieres continuar?\n",
            "1- SI\n",
            "2- NO2\n",
            "¡GRACIAS POR JUGAR!\n",
            "GANASTE 1 VECES\n",
            "PERDISTE 0 VECES\n"
          ]
        }
      ]
    },
    {
      "cell_type": "code",
      "source": [
        "import random\n",
        "from IPython.display import clear_output\n",
        "\n",
        "def lista_c():\n",
        "    lista = list(range(1, 11))\n",
        "    random.shuffle(lista)\n",
        "    return lista\n",
        "\n",
        "def validar_num(mensaje):\n",
        "    while True:\n",
        "        try:\n",
        "            num = int(input(mensaje))\n",
        "            if 0 <= num < 10:\n",
        "                return num\n",
        "            else:\n",
        "                print(\"Ingresa una posición válida (0-9).\")\n",
        "        except ValueError:\n",
        "            print(\"Ingresa un número válido.\")\n",
        "\n",
        "op = 1\n",
        "g = 0\n",
        "p = 0\n",
        "\n",
        "while op != 2:\n",
        "    clear_output()\n",
        "    print(\"BIENVENIDO!\")\n",
        "    lista = lista_c()\n",
        "    posnum = random.randint(0, 9)\n",
        "    num = lista[posnum]\n",
        "    i = 0\n",
        "\n",
        "    while i != 3:\n",
        "        print(f\"¿En qué posición crees que está el número {num}?\")\n",
        "        pos = validar_num(\"Ingresa una posición válida: \")\n",
        "\n",
        "        if lista[pos] == num:\n",
        "            print(\"¡Felicidades! Adivinaste la posición.\")\n",
        "            print(\"Lista de posiciones: \", end=\"\")\n",
        "            for i in range(10):\n",
        "                print(f\"{i}\", end=\" \")\n",
        "            print(\"\\n\", lista)\n",
        "            g += 1\n",
        "            break\n",
        "        else:\n",
        "            print(f\"El número no está en esa posición. Este es tu intento {i + 1}\")\n",
        "            i += 1\n",
        "\n",
        "        if i == 3:\n",
        "            print(\"Lo siento, se te acabaron los intentos. ¡PERDISTE!\")\n",
        "            print(f\"El número se encontraba en la posición {posnum}\")\n",
        "            print(\"Lista de posiciones: \", end=\"\")\n",
        "            for i in range(10):\n",
        "                print(f\"{i}\", end=\" \")\n",
        "            print(\"\\n\", lista)\n",
        "            p += 1\n",
        "            break\n",
        "\n",
        "    print(\"¿Quieres continuar?\")\n",
        "    print(\"1- SI\")\n",
        "    op = validar_num(\"2- NO\")\n",
        "\n",
        "print(\"¡GRACIAS POR JUGAR!\")\n",
        "print(f\"GANASTE {g} VECES\")\n",
        "print(f\"PERDISTE {p} VECES\")\n"
      ],
      "metadata": {
        "id": "4BtlR22iya9c",
        "colab": {
          "base_uri": "https://localhost:8080/"
        },
        "outputId": "19b55630-9c5d-4c9e-de6f-59f15df628a8"
      },
      "execution_count": 3,
      "outputs": [
        {
          "output_type": "stream",
          "name": "stdout",
          "text": [
            "BIENVENIDO!\n",
            "¿En qué posición crees que está el número 1?\n",
            "Ingresa una posición válida: 4\n",
            "El número no está en esa posición. Este es tu intento 1\n",
            "¿En qué posición crees que está el número 1?\n",
            "Ingresa una posición válida: 3\n",
            "El número no está en esa posición. Este es tu intento 2\n",
            "¿En qué posición crees que está el número 1?\n",
            "Ingresa una posición válida: 5\n",
            "El número no está en esa posición. Este es tu intento 3\n",
            "Lo siento, se te acabaron los intentos. ¡PERDISTE!\n",
            "El número se encontraba en la posición 0\n",
            "Lista de posiciones: 0 1 2 3 4 5 6 7 8 9 \n",
            " [1, 8, 10, 9, 5, 3, 4, 2, 7, 6]\n",
            "¿Quieres continuar?\n",
            "1- SI\n",
            "2- NO2\n",
            "¡GRACIAS POR JUGAR!\n",
            "GANASTE 0 VECES\n",
            "PERDISTE 1 VECES\n"
          ]
        }
      ]
    }
  ]
}