{
  "nbformat": 4,
  "nbformat_minor": 0,
  "metadata": {
    "colab": {
      "provenance": [],
      "authorship_tag": "ABX9TyNYXkqptzpCWxmer1ddvXr1",
      "include_colab_link": true
    },
    "kernelspec": {
      "name": "python3",
      "display_name": "Python 3"
    },
    "language_info": {
      "name": "python"
    }
  },
  "cells": [
    {
      "cell_type": "markdown",
      "metadata": {
        "id": "view-in-github",
        "colab_type": "text"
      },
      "source": [
        "<a href=\"https://colab.research.google.com/github/BrayanArM98/Python/blob/main/RMBA_PY_ACT6.ipynb\" target=\"_parent\"><img src=\"https://colab.research.google.com/assets/colab-badge.svg\" alt=\"Open In Colab\"/></a>"
      ]
    },
    {
      "cell_type": "markdown",
      "source": [
        "# ACTIVIDAD 6"
      ],
      "metadata": {
        "id": "7WywxHLkNesp"
      }
    },
    {
      "cell_type": "markdown",
      "source": [
        " 1.- FUNCIÓN QUE LEA n CANTIDAD DE NÚMEROS HASTA QUE EL USUARIO LO DESEE, DESPLEGAR LA SUMA DE LOS NÚMEROS, MEDIA Y VALOR DE LOS NÚMEROS MAYORES Y MENORES."
      ],
      "metadata": {
        "id": "XzpyWxgPNiO_"
      }
    },
    {
      "cell_type": "code",
      "source": [
        "def numeros():\n",
        "    try:\n",
        "        arr_num = leer_numeros()\n",
        "    except:\n",
        "        print(\"Ocurrió un error inesperado..\")\n",
        "    else:\n",
        "        suma = sum(arr_num)\n",
        "        media = suma / len(arr_num)\n",
        "        menor = min(arr_num)\n",
        "        mayor = max(arr_num)\n",
        "\n",
        "    if len(arr_num) == 0:\n",
        "        return print(\"No se ingresaron números\")\n",
        "    else:\n",
        "        return print(f\"La suma de los números es {suma}. \\\n",
        "         \\nLa media de los números es {media}. \\\n",
        "         \\nEl número menor es {menor}. \\\n",
        "         \\nEl número mayor es {mayor}. \")\n"
      ],
      "metadata": {
        "id": "L4rlxToeN611"
      },
      "execution_count": null,
      "outputs": []
    },
    {
      "cell_type": "markdown",
      "source": [
        "2.- FUNCIÓN QUE GENERE 15 NÚMEROS IMPARES ENTRE 10 Y 60 o MÁXIMO DE 25 NÚMEROS. DESPLEGAR LA MEDIA DE LOS PARES Y MEDIA DE IMPARES."
      ],
      "metadata": {
        "id": "byiQMhQ5N7Gt"
      }
    },
    {
      "cell_type": "code",
      "source": [
        "def numero_impar():\n",
        "    impares = 0\n",
        "    par = 0\n",
        "    n_par = 0\n",
        "    n_impar = 0\n",
        "    while n_impar < 25:\n",
        "        nu = num_aleatorio(10,60)\n",
        "        if n_impar == 15:\n",
        "            break\n",
        "        if nu % 2 == 1:\n",
        "            impares += nu\n",
        "            n_impar += 1\n",
        "        else:\n",
        "            par += nu\n",
        "            n_par += 1\n",
        "\n",
        "    media_par = par / n_par\n",
        "    media_impar = impares / n_impar\n",
        "\n",
        "    return print(f\"La media de los pares es {media_par}. \\\n",
        "         \\nLa media de los impares es {media_impar}. \\\n",
        "         \\nNumeros impares es {n_impar}. \\\n",
        "         \\nNumeros pares es {n_par}. \")\n"
      ],
      "metadata": {
        "id": "ANkfkQBeN7bt"
      },
      "execution_count": null,
      "outputs": []
    },
    {
      "cell_type": "markdown",
      "source": [
        "3.- FUNCIÓN QUE SIRVA PARA LEER UN RANGO DADO POR EL USUARIO. REPETIR ESTA ACCIÓN HASTA QUE EL USUARIO LO DESEE, DESPLEGAR CANTIDAD DE NUMEROS Y PROMEDIO DE LOS NUMEROS.."
      ],
      "metadata": {
        "id": "EDwv5HJiN7v-"
      }
    },
    {
      "cell_type": "code",
      "source": [
        "def num_rango():\n",
        "    min = es_entero(input(\"Ingrese el rango minimo\"))\n",
        "    max = es_entero(input(\"Ingrese el rango máximo\"))\n",
        "    contador = 0\n",
        "    acomulador = 0\n",
        "    while True:\n",
        "         try:\n",
        "             num_rango = val_rango(min,max)\n",
        "         except:\n",
        "             print(\"Ocurrió un error inesperado..\")\n",
        "         else:\n",
        "             acomulador += num_rango\n",
        "             contador += 1\n",
        "             respuesta = input(\"¿Quieres continuar? (s/n): \")\n",
        "             if respuesta.lower() != \"s\":\n",
        "                 break\n",
        "    prom = acomulador / contador\n",
        "    print(f\"La cantidad de números es : {contador} \\\n",
        "             \\nPromedio es : {prom}\")"
      ],
      "metadata": {
        "id": "G0Sc7kQaN8EN"
      },
      "execution_count": null,
      "outputs": []
    },
    {
      "cell_type": "markdown",
      "source": [
        "4.- FUNCIÓN QUE RECIBA COMO PARÁMETRO LOS VALORES PARA EL ÁREA DE UN TRIANGULO Y RETORNE SU RESULTADO"
      ],
      "metadata": {
        "id": "vqlqRQk5N8Ut"
      }
    },
    {
      "cell_type": "code",
      "source": [
        "def area_triangulo():\n",
        "    try:\n",
        "        a = es_entero(input(\"Ingrese la altura del Triangulo: \"))\n",
        "        b = es_entero(input(\"Ingrese la base del Triangulo:\"))\n",
        "    except Exception as error:\n",
        "        print(\"Error:\", error)\n",
        "    else:\n",
        "        area = (b * a) / 2\n",
        "        return print(f\"El área del triangulo con altura {a} y base {b} es: {area}\")\n"
      ],
      "metadata": {
        "id": "sAixPKyMOVfc"
      },
      "execution_count": null,
      "outputs": []
    },
    {
      "cell_type": "markdown",
      "source": [
        "5.- FUNCION QUE SIRVA QUE SIRVA PARA EVALUAR EL PROMEDIO DE 3 CALIFICACIONES DADAS, SI EL USUARIO SU CALIFICACION ES APROBADA MANDAR MSGE QUE DIGA \"felicidades avanzas al siguiente semestre\", SI LA CALIFICACIONE ESTA REPROBADA EL MENSAGE \"repetir materia \" EL ALUMNO TENDRA UN MAXIMO DE CURSAR 3 VESES LA MATERIA, SI LA REPRUEBA 3 VESES MANDAR MSGE \" lastima estas fuera de la UABC\""
      ],
      "metadata": {
        "id": "ULca56djOVzs"
      }
    },
    {
      "cell_type": "code",
      "source": [
        "def calificacion():\n",
        "    r = 0\n",
        "    max = 3\n",
        "    for i in range(max):\n",
        "        try:\n",
        "            cal = val_rango(0,100, \"Ingrese calificación: \")\n",
        "        except ValueError as e:\n",
        "            print(\"Error:\", e)\n",
        "            continue\n",
        "        except TypeError as er:\n",
        "            print(f\"Error:\", er)\n",
        "            continue\n",
        "        else:\n",
        "            if r == 2 and cal <60:\n",
        "               print(\"Lastima estas fuera de la UABC\")\n",
        "               break\n",
        "            elif cal >= 60:\n",
        "                print(\"Felicidades avanzas al siguiente semestre\")\n",
        "                break\n",
        "            else:\n",
        "                r += 1\n",
        "                print(f\"Repetir Materia: Intento {r}\")\n"
      ],
      "metadata": {
        "id": "eHW8fDcnOWGM"
      },
      "execution_count": null,
      "outputs": []
    }
  ]
}