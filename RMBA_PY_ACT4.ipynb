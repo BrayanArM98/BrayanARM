{
  "nbformat": 4,
  "nbformat_minor": 0,
  "metadata": {
    "colab": {
      "provenance": [],
      "authorship_tag": "ABX9TyOJg3M1kcFjQIP3/HfnLqJ2",
      "include_colab_link": true
    },
    "kernelspec": {
      "name": "python3",
      "display_name": "Python 3"
    },
    "language_info": {
      "name": "python"
    }
  },
  "cells": [
    {
      "cell_type": "markdown",
      "metadata": {
        "id": "view-in-github",
        "colab_type": "text"
      },
      "source": [
        "<a href=\"https://colab.research.google.com/github/BrayanArM98/BrayanARM/blob/main/RMBA_PY_ACT4.ipynb\" target=\"_parent\"><img src=\"https://colab.research.google.com/assets/colab-badge.svg\" alt=\"Open In Colab\"/></a>"
      ]
    },
    {
      "cell_type": "markdown",
      "source": [
        "# ACTIVIDAD 4"
      ],
      "metadata": {
        "id": "jdLCMIaTHaqm"
      }
    },
    {
      "cell_type": "markdown",
      "source": [
        "1.- Programa en python   que lea 3 calificaciones calcule el promedio del alumno y desplegar:"
      ],
      "metadata": {
        "id": "NcNC40GnHba1"
      }
    },
    {
      "cell_type": "code",
      "source": [
        "try:\n",
        "\n",
        "    calificacion1 = float(input(\"Ingrese la calificación 1: \"))\n",
        "    calificacion2 = float(input(\"Ingrese la calificación 2: \"))\n",
        "    calificacion3 = float(input(\"Ingrese la calificación 3: \"))\n",
        "\n",
        "\n",
        "    calificaciones = [calificacion1, calificacion2, calificacion3]\n",
        "    promedio = sum(calificaciones) / len(calificaciones)\n",
        "\n",
        "\n",
        "    if 0 <= promedio < 30:\n",
        "        print(\"Reprobado\")\n",
        "    elif 30 <= promedio < 60:\n",
        "        print(\"Extraordinario\")\n",
        "    elif 60 <= promedio < 70:\n",
        "        print(\"Suficiente\")\n",
        "    elif 70 <= promedio < 80:\n",
        "        print(\"Regular\")\n",
        "    elif 80 <= promedio < 90:\n",
        "        print(\"Bien\")\n",
        "    elif 90 <= promedio < 98:\n",
        "        print(\"Muy bien\")\n",
        "    elif 98 <= promedio <= 100:\n",
        "        print(\"Excelente\")\n",
        "    else:\n",
        "        print(\"Error en promedio (fuera de rango)\")\n",
        "\n",
        "except ValueError:\n",
        "    print(\"Error: Ingresa calificaciones válidas solo como números!!!.\")\n"
      ],
      "metadata": {
        "colab": {
          "base_uri": "https://localhost:8080/"
        },
        "id": "GgYQlkTyIBsq",
        "outputId": "607c5984-c7c7-4b60-ec3b-8ae45f21e4c0"
      },
      "execution_count": 2,
      "outputs": [
        {
          "output_type": "stream",
          "name": "stdout",
          "text": [
            "Ingrese la calificación 1: 90\n",
            "Ingrese la calificación 2: 70\n",
            "Ingrese la calificación 3: 80\n",
            "Bien\n"
          ]
        }
      ]
    },
    {
      "cell_type": "markdown",
      "source": [
        "2.- Programa en Python que sirva para calcular el salario semanal de un trabajador donde se obtiene como dato de entrada las horas semanales trabajadas, el salario por hora."
      ],
      "metadata": {
        "id": "nkbMLtnLICH5"
      }
    },
    {
      "cell_type": "code",
      "source": [
        "try:\n",
        "\n",
        "    horas_trabajadas = int(input(\"Horas trabajadas: \"))\n",
        "    salario_por_hora = int(input(\"Salario por hora: \"))\n",
        "\n",
        "\n",
        "    salario_normal = salario_por_hora * horas_trabajadas if horas_trabajadas <= 40 else salario_por_hora * 40\n",
        "\n",
        "\n",
        "    salario_extra = 0\n",
        "    if horas_trabajadas > 40:\n",
        "        horas_extra = horas_trabajadas - 40\n",
        "        if horas_extra <= 9:\n",
        "            salario_extra = salario_por_hora * 2 * horas_extra\n",
        "        else:\n",
        "            salario_extra = salario_por_hora * 3 * (horas_extra - 9)\n",
        "\n",
        "\n",
        "    salario_total = salario_normal + salario_extra\n",
        "\n",
        "\n",
        "    print(\"Salario por hora:\", salario_por_hora)\n",
        "    print(\"Horas trabajadas:\", horas_trabajadas)\n",
        "    print(\"Salario normal:\", salario_normal)\n",
        "    print(\"Salario extra:\", salario_extra)\n",
        "    print(\"Salario total:\", salario_total)\n",
        "\n",
        "except ValueError:\n",
        "    print(\"Error: Ingresa valores válidos (números enteros) para horas trabajadas y salario por hora.\")\n"
      ],
      "metadata": {
        "colab": {
          "base_uri": "https://localhost:8080/"
        },
        "id": "I1fSo8hlICaa",
        "outputId": "5fc74212-8b87-4651-9ee3-bfe44ba80065"
      },
      "execution_count": 13,
      "outputs": [
        {
          "output_type": "stream",
          "name": "stdout",
          "text": [
            "Horas trabajadas: 8\n",
            "Salario por hora: jj\n",
            "Error: Ingresa valores válidos (números enteros) para horas trabajadas y salario por hora.\n"
          ]
        }
      ]
    },
    {
      "cell_type": "markdown",
      "source": [
        "3.- Programa en Python que sirva para calcular el Total a pagar por consumo de agua, donde el dato de entrada son los M3 de agua consumidos, Tomar en cuenta que se cobra escalonada de la Siguiente manera:"
      ],
      "metadata": {
        "id": "fEqAOin1ICsJ"
      }
    },
    {
      "cell_type": "code",
      "source": [
        "def calcular_pago_agua():\n",
        "    try:\n",
        "        m3_consumidos = float(input(\"Ingrese la cantidad de M3 de agua consumidos: \"))\n",
        "\n",
        "        if m3_consumidos < 0:\n",
        "            raise ValueError(\"La cantidad de M3 de agua no puede ser negativa.\")\n",
        "\n",
        "        subtotal = 0\n",
        "        iva = 0.16\n",
        "\n",
        "        if m3_consumidos <= 4:\n",
        "            subtotal = 50\n",
        "        elif m3_consumidos <= 15:\n",
        "            subtotal = 50 + (m3_consumidos - 4) * 8\n",
        "        elif m3_consumidos <= 50:\n",
        "            subtotal = 50 + 11 * 11 + (m3_consumidos - 15) * 10\n",
        "        else:\n",
        "            subtotal = 50 + 11 * 11 + 35 * 10 + (m3_consumidos - 50) * 11\n",
        "\n",
        "        total = subtotal + (subtotal * iva)\n",
        "        print(f\"Subtotal: ${subtotal:.2f}\")\n",
        "        print(f\"IVA (16%): ${subtotal * iva:.2f}\")\n",
        "        print(f\"Total a pagar: ${total:.2f}\")\n",
        "\n",
        "    except ValueError as e:\n",
        "        print(f\"Error: {e}\")\n",
        "    except Exception as e:\n",
        "        print(f\"Ocurrió un error inesperado: {e}\")\n",
        "\n",
        "if __name__ == \"__main__\":\n",
        "    calcular_pago_agua()\n"
      ],
      "metadata": {
        "colab": {
          "base_uri": "https://localhost:8080/"
        },
        "id": "SR_GMP-SIDDq",
        "outputId": "8130b439-c62c-4663-d463-28a39f06a63d"
      },
      "execution_count": 20,
      "outputs": [
        {
          "output_type": "stream",
          "name": "stdout",
          "text": [
            "Ingrese la cantidad de M3 de agua consumidos: 34\n",
            "Subtotal: $361.00\n",
            "IVA (16%): $57.76\n",
            "Total a pagar: $418.76\n"
          ]
        }
      ]
    },
    {
      "cell_type": "markdown",
      "source": [
        "4- En la materia de Metodología de la programación se aplican 5 exámenes, calcular el promedio final de la materia donde la calificación menor de los exámenes se anula y el promedio se calcula en base a 4 exámenes."
      ],
      "metadata": {
        "id": "VAWmCZCsIDbb"
      }
    },
    {
      "cell_type": "code",
      "source": [
        "try:\n",
        "\n",
        "    calificaciones = []\n",
        "    for i in range(5):\n",
        "        calificacion = float(input(f'Ingrese la calificación del examen {i + 1}: '))\n",
        "        calificaciones.append(calificacion)\n",
        "\n",
        "\n",
        "    calificacion_minima = min(calificaciones)\n",
        "    calificaciones.remove(calificacion_minima)\n",
        "\n",
        "\n",
        "    promedio = sum(calificaciones) / 4\n",
        "\n",
        "    print(f'El promedio final es el siguiente: {promedio}')\n",
        "    print(f'La calificación más baja eliminada fue: {calificacion_minima}')\n",
        "except ValueError:\n",
        "    print('¡Error! Ingrese una calificación válida.')\n"
      ],
      "metadata": {
        "colab": {
          "base_uri": "https://localhost:8080/"
        },
        "id": "oRN5NAbQID1h",
        "outputId": "2b0c050d-5a8e-4e30-87b2-de525ad1de13"
      },
      "execution_count": 12,
      "outputs": [
        {
          "output_type": "stream",
          "name": "stdout",
          "text": [
            "Ingrese la calificación del examen 1: 8\n",
            "Ingrese la calificación del examen 2: h\n",
            "¡Error! Ingrese una calificación válida.\n"
          ]
        }
      ]
    },
    {
      "cell_type": "markdown",
      "source": [
        "5.- Programa en Python que sirva para el juego del CHINCHAMPU (Piedra, Papel, Tijera) para 1 jugador y la computadora\n",
        "\n"
      ],
      "metadata": {
        "id": "XdAUeomEIEPh"
      }
    },
    {
      "cell_type": "code",
      "source": [
        "import random\n",
        "\n",
        "def jugar_chinchampu():\n",
        "    opciones = [\"Piedra\", \"Papel\", \"Tijera\"]\n",
        "\n",
        "    while True:\n",
        "        try:\n",
        "            eleccion_jugador = input(\"Elige Piedra, Papel o Tijera: \").capitalize()\n",
        "\n",
        "            if eleccion_jugador not in opciones:\n",
        "                raise ValueError(\"Esa no es una opción válida. Debes de ingresar lo que se te pide.\")\n",
        "\n",
        "            eleccion_computadora = random.choice(opciones)\n",
        "\n",
        "            print(f\"Tú elegiste: {eleccion_jugador}\")\n",
        "            print(f\"La computadora eligió: {eleccion_computadora}\")\n",
        "\n",
        "            if eleccion_jugador == eleccion_computadora:\n",
        "                print(\"¡Es un empate!\")\n",
        "            elif (eleccion_jugador == \"Piedra\" and eleccion_computadora == \"Tijera\") or \\\n",
        "                 (eleccion_jugador == \"Papel\" and eleccion_computadora == \"Piedra\") or \\\n",
        "                 (eleccion_jugador == \"Tijera\" and eleccion_computadora == \"Papel\"):\n",
        "                print(\"¡Ganaste!\")\n",
        "            else:\n",
        "                print(\"¡La computadora gana!\")\n",
        "\n",
        "            jugar_otra_vez = input(\"¿Quieres jugar de nuevo? (s/n): \").lower()\n",
        "            if jugar_otra_vez != \"s\":\n",
        "                break\n",
        "        except ValueError as e:\n",
        "            print(e)\n",
        "            continue\n",
        "\n",
        "if __name__ == \"__main__\":\n",
        "    jugar_chinchampu()\n"
      ],
      "metadata": {
        "colab": {
          "base_uri": "https://localhost:8080/",
          "height": 390
        },
        "id": "d-m501wdIznG",
        "outputId": "c416de86-8b6f-478e-93e1-aceed9632158"
      },
      "execution_count": 21,
      "outputs": [
        {
          "output_type": "stream",
          "name": "stdout",
          "text": [
            "Elige Piedra, Papel o Tijera: j\n",
            "Esa no es una opción válida. Debes de ingresar lo que se te pide.\n"
          ]
        },
        {
          "output_type": "error",
          "ename": "KeyboardInterrupt",
          "evalue": "ignored",
          "traceback": [
            "\u001b[0;31m---------------------------------------------------------------------------\u001b[0m",
            "\u001b[0;31mKeyboardInterrupt\u001b[0m                         Traceback (most recent call last)",
            "\u001b[0;32m<ipython-input-21-cb46cb4054a0>\u001b[0m in \u001b[0;36m<cell line: 34>\u001b[0;34m()\u001b[0m\n\u001b[1;32m     33\u001b[0m \u001b[0;34m\u001b[0m\u001b[0m\n\u001b[1;32m     34\u001b[0m \u001b[0;32mif\u001b[0m \u001b[0m__name__\u001b[0m \u001b[0;34m==\u001b[0m \u001b[0;34m\"__main__\"\u001b[0m\u001b[0;34m:\u001b[0m\u001b[0;34m\u001b[0m\u001b[0;34m\u001b[0m\u001b[0m\n\u001b[0;32m---> 35\u001b[0;31m     \u001b[0mjugar_chinchampu\u001b[0m\u001b[0;34m(\u001b[0m\u001b[0;34m)\u001b[0m\u001b[0;34m\u001b[0m\u001b[0;34m\u001b[0m\u001b[0m\n\u001b[0m",
            "\u001b[0;32m<ipython-input-21-cb46cb4054a0>\u001b[0m in \u001b[0;36mjugar_chinchampu\u001b[0;34m()\u001b[0m\n\u001b[1;32m      6\u001b[0m     \u001b[0;32mwhile\u001b[0m \u001b[0;32mTrue\u001b[0m\u001b[0;34m:\u001b[0m\u001b[0;34m\u001b[0m\u001b[0;34m\u001b[0m\u001b[0m\n\u001b[1;32m      7\u001b[0m         \u001b[0;32mtry\u001b[0m\u001b[0;34m:\u001b[0m\u001b[0;34m\u001b[0m\u001b[0;34m\u001b[0m\u001b[0m\n\u001b[0;32m----> 8\u001b[0;31m             \u001b[0meleccion_jugador\u001b[0m \u001b[0;34m=\u001b[0m \u001b[0minput\u001b[0m\u001b[0;34m(\u001b[0m\u001b[0;34m\"Elige Piedra, Papel o Tijera: \"\u001b[0m\u001b[0;34m)\u001b[0m\u001b[0;34m.\u001b[0m\u001b[0mcapitalize\u001b[0m\u001b[0;34m(\u001b[0m\u001b[0;34m)\u001b[0m\u001b[0;34m\u001b[0m\u001b[0;34m\u001b[0m\u001b[0m\n\u001b[0m\u001b[1;32m      9\u001b[0m \u001b[0;34m\u001b[0m\u001b[0m\n\u001b[1;32m     10\u001b[0m             \u001b[0;32mif\u001b[0m \u001b[0meleccion_jugador\u001b[0m \u001b[0;32mnot\u001b[0m \u001b[0;32min\u001b[0m \u001b[0mopciones\u001b[0m\u001b[0;34m:\u001b[0m\u001b[0;34m\u001b[0m\u001b[0;34m\u001b[0m\u001b[0m\n",
            "\u001b[0;32m/usr/local/lib/python3.10/dist-packages/ipykernel/kernelbase.py\u001b[0m in \u001b[0;36mraw_input\u001b[0;34m(self, prompt)\u001b[0m\n\u001b[1;32m    849\u001b[0m                 \u001b[0;34m\"raw_input was called, but this frontend does not support input requests.\"\u001b[0m\u001b[0;34m\u001b[0m\u001b[0;34m\u001b[0m\u001b[0m\n\u001b[1;32m    850\u001b[0m             )\n\u001b[0;32m--> 851\u001b[0;31m         return self._input_request(str(prompt),\n\u001b[0m\u001b[1;32m    852\u001b[0m             \u001b[0mself\u001b[0m\u001b[0;34m.\u001b[0m\u001b[0m_parent_ident\u001b[0m\u001b[0;34m,\u001b[0m\u001b[0;34m\u001b[0m\u001b[0;34m\u001b[0m\u001b[0m\n\u001b[1;32m    853\u001b[0m             \u001b[0mself\u001b[0m\u001b[0;34m.\u001b[0m\u001b[0m_parent_header\u001b[0m\u001b[0;34m,\u001b[0m\u001b[0;34m\u001b[0m\u001b[0;34m\u001b[0m\u001b[0m\n",
            "\u001b[0;32m/usr/local/lib/python3.10/dist-packages/ipykernel/kernelbase.py\u001b[0m in \u001b[0;36m_input_request\u001b[0;34m(self, prompt, ident, parent, password)\u001b[0m\n\u001b[1;32m    893\u001b[0m             \u001b[0;32mexcept\u001b[0m \u001b[0mKeyboardInterrupt\u001b[0m\u001b[0;34m:\u001b[0m\u001b[0;34m\u001b[0m\u001b[0;34m\u001b[0m\u001b[0m\n\u001b[1;32m    894\u001b[0m                 \u001b[0;31m# re-raise KeyboardInterrupt, to truncate traceback\u001b[0m\u001b[0;34m\u001b[0m\u001b[0;34m\u001b[0m\u001b[0m\n\u001b[0;32m--> 895\u001b[0;31m                 \u001b[0;32mraise\u001b[0m \u001b[0mKeyboardInterrupt\u001b[0m\u001b[0;34m(\u001b[0m\u001b[0;34m\"Interrupted by user\"\u001b[0m\u001b[0;34m)\u001b[0m \u001b[0;32mfrom\u001b[0m \u001b[0;32mNone\u001b[0m\u001b[0;34m\u001b[0m\u001b[0;34m\u001b[0m\u001b[0m\n\u001b[0m\u001b[1;32m    896\u001b[0m             \u001b[0;32mexcept\u001b[0m \u001b[0mException\u001b[0m \u001b[0;32mas\u001b[0m \u001b[0me\u001b[0m\u001b[0;34m:\u001b[0m\u001b[0;34m\u001b[0m\u001b[0;34m\u001b[0m\u001b[0m\n\u001b[1;32m    897\u001b[0m                 \u001b[0mself\u001b[0m\u001b[0;34m.\u001b[0m\u001b[0mlog\u001b[0m\u001b[0;34m.\u001b[0m\u001b[0mwarning\u001b[0m\u001b[0;34m(\u001b[0m\u001b[0;34m\"Invalid Message:\"\u001b[0m\u001b[0;34m,\u001b[0m \u001b[0mexc_info\u001b[0m\u001b[0;34m=\u001b[0m\u001b[0;32mTrue\u001b[0m\u001b[0;34m)\u001b[0m\u001b[0;34m\u001b[0m\u001b[0;34m\u001b[0m\u001b[0m\n",
            "\u001b[0;31mKeyboardInterrupt\u001b[0m: Interrupted by user"
          ]
        }
      ]
    },
    {
      "cell_type": "markdown",
      "source": [
        "6.- Programa en Python que lea 4 números enteros desplegar cuales el menor, cual es mayor"
      ],
      "metadata": {
        "id": "BXYwO9eyIz3t"
      }
    },
    {
      "cell_type": "code",
      "source": [
        "def encontrar_menor_mayor():\n",
        "    try:\n",
        "        num1 = int(input(\"Ingresa el primer número entero: \"))\n",
        "        num2 = int(input(\"Ingresa el segundo número entero: \"))\n",
        "        num3 = int(input(\"Ingresa el tercer número entero: \"))\n",
        "        num4 = int(input(\"Ingresa el cuarto número entero: \"))\n",
        "\n",
        "\n",
        "        menor = min(num1, num2, num3, num4)\n",
        "\n",
        "\n",
        "        mayor = max(num1, num2, num3, num4)\n",
        "\n",
        "        print(f\"El número menor es: {menor}\")\n",
        "        print(f\"El número mayor es: {mayor}\")\n",
        "\n",
        "    except ValueError:\n",
        "        print(\"Error: Ingresa solo números enteros válidos.\")\n",
        "\n",
        "if __name__ == \"__main__\":\n",
        "    encontrar_menor_mayor()\n"
      ],
      "metadata": {
        "colab": {
          "base_uri": "https://localhost:8080/"
        },
        "id": "xtcoc7qCI6n9",
        "outputId": "9c038836-eadd-4c0d-a4be-cf6c37376281"
      },
      "execution_count": 15,
      "outputs": [
        {
          "output_type": "stream",
          "name": "stdout",
          "text": [
            "Ingresa el primer número entero: 9\n",
            "Ingresa el segundo número entero: 7\n",
            "Ingresa el tercer número entero: 4\n",
            "Ingresa el cuarto número entero: 7\n",
            "El número menor es: 4\n",
            "El número mayor es: 9\n"
          ]
        }
      ]
    },
    {
      "cell_type": "markdown",
      "source": [
        "7.- Programa en Python que sirva para calcular el área de un triangulo, los datos de entrada deben ser forzosamente de tipo real"
      ],
      "metadata": {
        "id": "EgYZjuexI7Ad"
      }
    },
    {
      "cell_type": "code",
      "source": [
        "def calcular_area_triangulo():\n",
        "    try:\n",
        "        base = float(input(\"Ingresa la longitud de la base del triángulo: \"))\n",
        "        altura = float(input(\"Ingresa la altura del triángulo: \"))\n",
        "\n",
        "        if base <= 0 or altura <= 0:\n",
        "            raise ValueError(\"La base y la altura deben ser valores positivos.\")\n",
        "\n",
        "        area = 0.5 * base * altura\n",
        "        print(f\"El área del triángulo es: {area}\")\n",
        "\n",
        "    except ValueError as e:\n",
        "        print(f\"Error: {e}\")\n",
        "    except Exception as e:\n",
        "        print(f\"Ocurrió un error inesperado: {e}\")\n",
        "\n",
        "if __name__ == \"__main__\":\n",
        "    calcular_area_triangulo()\n"
      ],
      "metadata": {
        "colab": {
          "base_uri": "https://localhost:8080/"
        },
        "id": "We4hPSG3I-L8",
        "outputId": "c75c6892-3209-4bf3-aa38-0d8a6377cb9d"
      },
      "execution_count": 16,
      "outputs": [
        {
          "output_type": "stream",
          "name": "stdout",
          "text": [
            "Ingresa la longitud de la base del triángulo: 23\n",
            "Ingresa la altura del triángulo: 15\n",
            "El área del triángulo es: 172.5\n"
          ]
        }
      ]
    },
    {
      "cell_type": "markdown",
      "source": [
        "8.- Programa en Python que sirva para calcular el área de un circulo\n",
        "\n"
      ],
      "metadata": {
        "id": "iJhuxoQNI-b0"
      }
    },
    {
      "cell_type": "code",
      "source": [
        "import math\n",
        "\n",
        "def calcular_area_circulo():\n",
        "    try:\n",
        "        radio = float(input(\"Ingresa el radio del círculo: \"))\n",
        "\n",
        "        if radio <= 0:\n",
        "            raise ValueError(\"El radio debe ser un valor positivo.\")\n",
        "\n",
        "        area = math.pi * (radio ** 2)\n",
        "        print(f\"El área del círculo es: {area}\")\n",
        "\n",
        "    except ValueError as e:\n",
        "        print(f\"Error: {e}\")\n",
        "    except Exception as e:\n",
        "        print(f\"Ocurrió un error: {e}\")\n",
        "\n",
        "if __name__ == \"__main__\":\n",
        "    calcular_area_circulo()\n"
      ],
      "metadata": {
        "colab": {
          "base_uri": "https://localhost:8080/"
        },
        "id": "MCHFrCKXJAzE",
        "outputId": "81bc0681-7d36-4f44-fbff-3e78de14bc54"
      },
      "execution_count": 18,
      "outputs": [
        {
          "output_type": "stream",
          "name": "stdout",
          "text": [
            "Ingresa el radio del círculo: j\n",
            "Error: could not convert string to float: 'j'\n"
          ]
        }
      ]
    }
  ]
}