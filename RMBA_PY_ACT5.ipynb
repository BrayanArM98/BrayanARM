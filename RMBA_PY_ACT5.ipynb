{
  "nbformat": 4,
  "nbformat_minor": 0,
  "metadata": {
    "colab": {
      "provenance": [],
      "authorship_tag": "ABX9TyMSW8PO+G0mLwwQEhqiOQiv",
      "include_colab_link": true
    },
    "kernelspec": {
      "name": "python3",
      "display_name": "Python 3"
    },
    "language_info": {
      "name": "python"
    }
  },
  "cells": [
    {
      "cell_type": "markdown",
      "metadata": {
        "id": "view-in-github",
        "colab_type": "text"
      },
      "source": [
        "<a href=\"https://colab.research.google.com/github/BrayanArM98/Python/blob/main/RMBA_PY_ACT5.ipynb\" target=\"_parent\"><img src=\"https://colab.research.google.com/assets/colab-badge.svg\" alt=\"Open In Colab\"/></a>"
      ]
    },
    {
      "cell_type": "markdown",
      "source": [
        "# ACTIVIDAD 5"
      ],
      "metadata": {
        "id": "AadC9eFfFgoI"
      }
    },
    {
      "cell_type": "markdown",
      "source": [
        "1.- Programa en Python que genere 40 números aleatorios entre el 0 y 200, desplegar los números y la leyenda de cada número si es par o impar , la cantidad de los números pares e impares así como la suma de los números pares o impares."
      ],
      "metadata": {
        "id": "FlQ4fNwjFwZQ"
      }
    },
    {
      "cell_type": "code",
      "source": [
        "import random\n",
        "sumapar = 0\n",
        "sumaimpar = 0\n",
        "cantidadpar = 0\n",
        "for i in range(0,40):\n",
        "    num = random.randint(0,200)\n",
        "    print (f\"Valor {i+1}=>\", num, end=\" \")\n",
        "    if num % 2 == 0:\n",
        "        cantidadpar = 1 + cantidadpar\n",
        "        sumapar = num + sumapar\n",
        "        print (\"Par\")\n",
        "    else:\n",
        "        sumaimpar = num + sumaimpar\n",
        "        print (\"Impar\")\n",
        "print (\"Cantidad de numeros pares\", cantidadpar)\n",
        "print (\"Cantidad de numeros pares\", 40-cantidadpar)\n",
        "print (\"Suma de numeros pares: \", sumapar)\n",
        "print (\"Suma de numeros impares: \", sumaimpar)\n",
        "\n",
        ""
      ],
      "metadata": {
        "colab": {
          "base_uri": "https://localhost:8080/"
        },
        "id": "OHG90xdzF52H",
        "outputId": "9d7c6115-706d-449e-f4bf-94afe5e6de7e"
      },
      "execution_count": 32,
      "outputs": [
        {
          "output_type": "stream",
          "name": "stdout",
          "text": [
            "Valor 1=> 15 Impar\n",
            "Valor 2=> 109 Impar\n",
            "Valor 3=> 183 Impar\n",
            "Valor 4=> 191 Impar\n",
            "Valor 5=> 46 Par\n",
            "Valor 6=> 21 Impar\n",
            "Valor 7=> 34 Par\n",
            "Valor 8=> 21 Impar\n",
            "Valor 9=> 36 Par\n",
            "Valor 10=> 158 Par\n",
            "Valor 11=> 136 Par\n",
            "Valor 12=> 31 Impar\n",
            "Valor 13=> 80 Par\n",
            "Valor 14=> 112 Par\n",
            "Valor 15=> 75 Impar\n",
            "Valor 16=> 195 Impar\n",
            "Valor 17=> 53 Impar\n",
            "Valor 18=> 137 Impar\n",
            "Valor 19=> 62 Par\n",
            "Valor 20=> 197 Impar\n",
            "Valor 21=> 149 Impar\n",
            "Valor 22=> 23 Impar\n",
            "Valor 23=> 3 Impar\n",
            "Valor 24=> 109 Impar\n",
            "Valor 25=> 96 Par\n",
            "Valor 26=> 8 Par\n",
            "Valor 27=> 79 Impar\n",
            "Valor 28=> 100 Par\n",
            "Valor 29=> 105 Impar\n",
            "Valor 30=> 151 Impar\n",
            "Valor 31=> 96 Par\n",
            "Valor 32=> 8 Par\n",
            "Valor 33=> 85 Impar\n",
            "Valor 34=> 174 Par\n",
            "Valor 35=> 45 Impar\n",
            "Valor 36=> 185 Impar\n",
            "Valor 37=> 17 Impar\n",
            "Valor 38=> 140 Par\n",
            "Valor 39=> 89 Impar\n",
            "Valor 40=> 18 Par\n",
            "Cantidad de numeros pares 16\n",
            "Cantidad de numeros pares 24\n",
            "Suma de numeros pares:  1304\n",
            "Suma de numeros impares:  2268\n"
          ]
        }
      ]
    },
    {
      "cell_type": "markdown",
      "source": [
        "2.-Programa en Python que despliegue la tabla de multiplicar de un número dado (número entre el 1 y 20).\n",
        "\n",
        "Tabla del 5\n",
        "\n",
        "5 * 1 = 5\n",
        "\n",
        "5* 2 = 10\n",
        "\n",
        "5*10=50"
      ],
      "metadata": {
        "id": "RkXLsdJTF6K_"
      }
    },
    {
      "cell_type": "code",
      "source": [
        "num = random.randint(1,5)\n",
        "print (\"Tabla del\", num)\n",
        "for i in range(10):\n",
        "    resultado = num * (i+1)\n",
        "    print (f\"{num} x {i+1} = {resultado}\")\n",
        "\n",
        ""
      ],
      "metadata": {
        "colab": {
          "base_uri": "https://localhost:8080/"
        },
        "id": "LniHo8-eF6kH",
        "outputId": "4b8dfb41-7f44-452a-d346-3de5e934f4cf"
      },
      "execution_count": 53,
      "outputs": [
        {
          "output_type": "stream",
          "name": "stdout",
          "text": [
            "Tabla del 5\n",
            "5 x 1 = 5\n",
            "5 x 2 = 10\n",
            "5 x 3 = 15\n",
            "5 x 4 = 20\n",
            "5 x 5 = 25\n",
            "5 x 6 = 30\n",
            "5 x 7 = 35\n",
            "5 x 8 = 40\n",
            "5 x 9 = 45\n",
            "5 x 10 = 50\n"
          ]
        }
      ]
    },
    {
      "cell_type": "markdown",
      "source": [
        "3.- Programa en Python que lea una calificación, las calificación deberá estar en el rango de 0 a 100, si hay un error de captura, mostrar mensaje de error. con la calificación correcta mostrar msg de aprobado reprobado."
      ],
      "metadata": {
        "id": "6vOBVDdpF60X"
      }
    },
    {
      "cell_type": "code",
      "source": [
        "try:\n",
        "    cal = input(\"Ingrese calificación del 0-100: \")\n",
        "    if cal.isdigit():\n",
        "        valor = int(cal)\n",
        "        if valor < 0 or valor > 100:\n",
        "            raise ValueError(\"La calificación debe estar entre 0 y 100.\")\n",
        "    else:\n",
        "        raise TypeError(\"Los valores ingresados deben ser númericos\")\n",
        "except ValueError as e:\n",
        "    print(\"Error:\", e)\n",
        "except TypeError as er:\n",
        "    print(f\"Error:\", er)\n",
        "else:\n",
        "    if valor < 60:\n",
        "        print(\"Reprobado\")\n",
        "    else:\n",
        "        print(\"Aprobado\")\n",
        ""
      ],
      "metadata": {
        "colab": {
          "base_uri": "https://localhost:8080/"
        },
        "id": "Be-s-W_SF7HX",
        "outputId": "eea63530-26d5-483a-d9c1-ba9244acf6c6"
      },
      "execution_count": 8,
      "outputs": [
        {
          "output_type": "stream",
          "name": "stdout",
          "text": [
            "Ingrese calificación del 0-100: 60\n",
            "Aprobado\n"
          ]
        }
      ]
    },
    {
      "cell_type": "markdown",
      "source": [
        "4.- Programa en Python que lea n cantidad de números enteros dentro de un rango dado (> 0 ) , el programa deberá terminar cuando el usuario introduzca el número cero.\n",
        "\n",
        "desplegar la suma de números y la media."
      ],
      "metadata": {
        "id": "DrLLc-XVF7Uv"
      }
    },
    {
      "cell_type": "code",
      "source": [
        "try:\n",
        "    print ('Para salir ingrese \"0\"')\n",
        "    num = 1\n",
        "    suma = 0\n",
        "    i = -1\n",
        "    while num != 0:\n",
        "        num = int(input(\"ingrese numeros enteros: \"))\n",
        "        if num < 0:\n",
        "            print (\"Numeros mayores que 0\")\n",
        "            continue\n",
        "        i += 1\n",
        "        suma += num\n",
        "except ValueError:\n",
        "    print (\"Error: Los valores ingresados deben ser números enteros.\")\n",
        "else:\n",
        "    print (f\"La suma de los numeros es {suma}\")\n",
        "    print (f\"La media de los numeros es {suma / i}\")\n",
        ""
      ],
      "metadata": {
        "colab": {
          "base_uri": "https://localhost:8080/"
        },
        "id": "5_YaP799F7pO",
        "outputId": "1f47b5b9-655f-491d-efbe-4d4a7154fe28"
      },
      "execution_count": 29,
      "outputs": [
        {
          "output_type": "stream",
          "name": "stdout",
          "text": [
            "Para salir ingrese \"0\"\n",
            "ingrese numeros enteros: 98\n",
            "ingrese numeros enteros: 7\n",
            "ingrese numeros enteros: 66\n",
            "ingrese numeros enteros: 54\n",
            "ingrese numeros enteros: 4\n",
            "ingrese numeros enteros: 7\n",
            "ingrese numeros enteros: 0\n",
            "La suma de los numeros es 236\n",
            "La media de los numeros es 39.333333333333336\n"
          ]
        }
      ]
    },
    {
      "cell_type": "markdown",
      "source": [
        "5.- Programa en Python que sirva para leer el promedio de una materia. donde el usuario tendrá un máximo de 3 oportunidades de cursar la materia, si el promedio es aprobado, felicitarlo y continuar el siguiente semestre, si promedio es reprobado deberá salir mensaje de repetir materia o es baja académica si ha reprobado 3 veces.\n",
        "\n"
      ],
      "metadata": {
        "id": "XVoizY-bF8Bu"
      }
    },
    {
      "cell_type": "code",
      "source": [
        "try:\n",
        "    for i in range(1,4):\n",
        "        calif = int(input(\"Digame su calificacion: \"))\n",
        "        if calif < 0 or calif > 100:\n",
        "            raise TypeError(\"Calificacion debe estar entre 0 y 100.\")\n",
        "        elif calif < 60:\n",
        "            print (\"Reprobado\")\n",
        "        else:\n",
        "            break\n",
        "except TypeError as e:\n",
        "    print(\"Error:\", e)\n",
        "except ValueError:\n",
        "    print(\"Error: El número debe ser entero\")\n",
        "except:\n",
        "    print (\"Error\")\n",
        "else:\n",
        "    if i == 3:\n",
        "        print (\"Baja academica\")\n",
        "    else:\n",
        "        print (\"APROVADO!\")"
      ],
      "metadata": {
        "colab": {
          "base_uri": "https://localhost:8080/"
        },
        "id": "89EHHzreGdYt",
        "outputId": "9590bea3-be39-4a50-bd08-be576f5489f5"
      },
      "execution_count": 31,
      "outputs": [
        {
          "output_type": "stream",
          "name": "stdout",
          "text": [
            "Digame su calificacion: 90\n",
            "APROVADO!\n"
          ]
        }
      ]
    },
    {
      "cell_type": "markdown",
      "source": [
        "# PARTE 2:"
      ],
      "metadata": {
        "id": "HWrGNePrGfcE"
      }
    },
    {
      "cell_type": "markdown",
      "source": [
        "1.- Función que lea n cantidad de números hasta que el usuario lo desee, desplegar la suma de los números, media y valor de los números mayores y menores.\n",
        "\n"
      ],
      "metadata": {
        "id": "JS9zpsPaGgAM"
      }
    },
    {
      "cell_type": "code",
      "source": [
        "def sumaymedia (void):\n",
        "    try:\n",
        "        print ('Para salir ingrese \"0\"')\n",
        "        num = 1\n",
        "        suma = 0\n",
        "        may = -9999999999999\n",
        "        men = 999999999\n",
        "        i = -1\n",
        "        while num != 0:\n",
        "            num = int(input(\"ingrese numeros enteros: \"))\n",
        "            if num > may:\n",
        "                may = num\n",
        "            elif num < men and num!= 0:\n",
        "                men = num\n",
        "            i += 1\n",
        "            suma += num\n",
        "    except ValueError:\n",
        "        print (\"Error: Los valores ingresados deben ser números enteros.\")\n",
        "    else:\n",
        "        print (f\"La suma de los numeros es {suma}\")\n",
        "        print (f\"La media de los numeros es {suma / i}\")\n",
        "        print (f\"El numero mayor: {may} y el numero menor: {men}\")\n",
        "sumaymedia(0)"
      ],
      "metadata": {
        "colab": {
          "base_uri": "https://localhost:8080/"
        },
        "id": "CoN1xqCmGqbD",
        "outputId": "9f72a337-374b-45cc-b587-caf4a9983b87"
      },
      "execution_count": 35,
      "outputs": [
        {
          "output_type": "stream",
          "name": "stdout",
          "text": [
            "Para salir ingrese \"0\"\n",
            "ingrese numeros enteros: 66\n",
            "ingrese numeros enteros: 23\n",
            "ingrese numeros enteros: 5\n",
            "ingrese numeros enteros: 21\n",
            "ingrese numeros enteros: 0\n",
            "La suma de los numeros es 115\n",
            "La media de los numeros es 28.75\n",
            "El numero mayor: 66 y el numero menor: 5\n"
          ]
        }
      ]
    },
    {
      "cell_type": "markdown",
      "source": [
        "2.- Función que genere 15 números impares entre 10 y 60 o máximo de 25 números. desplegar la media de los pares y media de impares."
      ],
      "metadata": {
        "id": "mohMNmoRGq1D"
      }
    },
    {
      "cell_type": "code",
      "source": [
        "def numsrand (void):\n",
        "    sumapar = sumaimpar = i = impar = 0\n",
        "    for i in range(0,25):\n",
        "        num = random.randint(10,60)\n",
        "        print (f\"Valor {i+1}=>\", num, end=\" \")\n",
        "        if num % 2 == 0:\n",
        "            sumapar += num\n",
        "            print (\"Par\")\n",
        "        else:\n",
        "            sumaimpar += num\n",
        "            impar += 1\n",
        "            print (\"Impar\")\n",
        "        if impar == 15:\n",
        "            break\n",
        "    print (\"Media impar: \", (sumapar / (i+1-impar)))\n",
        "    print (\"Media de par: \", (sumaimpar / impar))\n",
        "numsrand(0)"
      ],
      "metadata": {
        "colab": {
          "base_uri": "https://localhost:8080/"
        },
        "id": "ye08JmN3GrHE",
        "outputId": "441a2707-0304-4421-c29d-6391bfc763b6"
      },
      "execution_count": 36,
      "outputs": [
        {
          "output_type": "stream",
          "name": "stdout",
          "text": [
            "Valor 1=> 34 Par\n",
            "Valor 2=> 51 Impar\n",
            "Valor 3=> 37 Impar\n",
            "Valor 4=> 45 Impar\n",
            "Valor 5=> 56 Par\n",
            "Valor 6=> 31 Impar\n",
            "Valor 7=> 26 Par\n",
            "Valor 8=> 42 Par\n",
            "Valor 9=> 43 Impar\n",
            "Valor 10=> 15 Impar\n",
            "Valor 11=> 36 Par\n",
            "Valor 12=> 18 Par\n",
            "Valor 13=> 20 Par\n",
            "Valor 14=> 15 Impar\n",
            "Valor 15=> 25 Impar\n",
            "Valor 16=> 11 Impar\n",
            "Valor 17=> 15 Impar\n",
            "Valor 18=> 43 Impar\n",
            "Valor 19=> 53 Impar\n",
            "Valor 20=> 15 Impar\n",
            "Valor 21=> 20 Par\n",
            "Valor 22=> 50 Par\n",
            "Valor 23=> 35 Impar\n",
            "Valor 24=> 18 Par\n",
            "Valor 25=> 18 Par\n",
            "Media impar:  30.727272727272727\n",
            "Media de par:  31.0\n"
          ]
        }
      ]
    },
    {
      "cell_type": "markdown",
      "source": [
        "3.- Función que sirva para leer y validar un número dentro de un rango dado por el usuario. repetir esta acción hasta que el usuario lo desee, desplegar cantidad de números y promedio de los números..\n",
        "\n"
      ],
      "metadata": {
        "id": "jMao25HBGrXr"
      }
    },
    {
      "cell_type": "code",
      "source": [
        "def valirang (void):\n",
        "    try:\n",
        "        rini = int(input(\"Rango inicial: \"))\n",
        "        rfin = int(input(\"Rango final: \"))\n",
        "        if rini > rfin:\n",
        "            raise TypeError(\"El rango final no puede ser menor que el inicial\")\n",
        "        num = 1\n",
        "        suma = i = 0\n",
        "        print ('Presione \"0\" para salir')\n",
        "        while num != 0:\n",
        "            num = int(input(\"Digame un numero: \"))\n",
        "            if num > rfin or num < rini:\n",
        "                print (f\"El valor debe estar entre: '{rini} y {rfin}'\")\n",
        "                continue\n",
        "            suma += num\n",
        "            i += 1\n",
        "            if num == 0:\n",
        "                i = i - 1\n",
        "        print (f\"El promedio: {suma / i}\")\n",
        "        print (f\"La cantidad de numeros: {i}\")\n",
        "\n",
        "    except TypeError as e:\n",
        "        print (\"Error:\", e)\n",
        "    except ValueError:\n",
        "        print (\"Error: El número debe ser entero\")\n",
        "    except:\n",
        "        print (\"error\")\n",
        "\n",
        "valirang(0)"
      ],
      "metadata": {
        "colab": {
          "base_uri": "https://localhost:8080/"
        },
        "id": "Q8jKAPoLGr5M",
        "outputId": "c6832856-2565-459f-94cb-25ba86de9752"
      },
      "execution_count": 37,
      "outputs": [
        {
          "output_type": "stream",
          "name": "stdout",
          "text": [
            "Rango inicial: 32\n",
            "Rango final: 67\n",
            "Presione \"0\" para salir\n",
            "Digame un numero: 45\n",
            "Digame un numero: 33\n",
            "Digame un numero: 57\n",
            "Digame un numero: 0\n",
            "El valor debe estar entre: '32 y 67'\n",
            "El promedio: 45.0\n",
            "La cantidad de numeros: 3\n"
          ]
        }
      ]
    },
    {
      "cell_type": "markdown",
      "source": [
        "4.- Función que reciba como parámetro los valores para el área de un triángulo y retorne su resultado"
      ],
      "metadata": {
        "id": "vlB0st4hGsQk"
      }
    },
    {
      "cell_type": "code",
      "source": [
        "def areatri (base, altura):\n",
        "    area = (base * altura) / 2\n",
        "    return area\n",
        "try:\n",
        "    base = int(input(\"Digame la base: \"))\n",
        "    altura = int(input(\"Digame la altura: \"))\n",
        "    print (areatri(base,altura))\n",
        "except ValueError:\n",
        "        print (\"Error: El número debe ser entero\")\n",
        "\n"
      ],
      "metadata": {
        "colab": {
          "base_uri": "https://localhost:8080/"
        },
        "id": "E4NaeWpVG_Z6",
        "outputId": "2e2b0964-a7b0-4453-b2ab-d7e57573c30b"
      },
      "execution_count": 38,
      "outputs": [
        {
          "output_type": "stream",
          "name": "stdout",
          "text": [
            "Digame la base: 9\n",
            "Digame la altura: 6\n",
            "27.0\n"
          ]
        }
      ]
    },
    {
      "cell_type": "markdown",
      "source": [
        "5.- Función que sirva para validar un número dentro de un rango dado."
      ],
      "metadata": {
        "id": "lFJvSL1CG_0K"
      }
    },
    {
      "cell_type": "code",
      "source": [
        "def validar (num, rfin, rini):\n",
        "    if num > rfin or num < rini:\n",
        "        print (\"VALOR INVALIDO\")\n",
        "        print (f\"El valor debe estar entre: '{rini} y {rfin}'\")\n",
        "    else:\n",
        "        print (\"VALOR VALIDO\")\n",
        "try:\n",
        "    rini = int(input(\"Rango inicial: \"))\n",
        "    rfin = int(input(\"Rango final: \"))\n",
        "    num = int(input(\"Digame un numero: \"))\n",
        "    if rini > rfin:\n",
        "        raise TypeError(\"El rango final no puede ser menor que el inicial\")\n",
        "    validar(num,rfin,rini)\n",
        "\n",
        "except TypeError as e:\n",
        "    print (\"Error:\", e)\n",
        "except ValueError:\n",
        "    print (\"Error: El número debe ser entero\")\n",
        "except:\n",
        "    print (\"error\")\n"
      ],
      "metadata": {
        "colab": {
          "base_uri": "https://localhost:8080/"
        },
        "id": "XqRDktYGHJSq",
        "outputId": "45161c24-1d7d-4e31-e33c-83686b3f4ba9"
      },
      "execution_count": 39,
      "outputs": [
        {
          "output_type": "stream",
          "name": "stdout",
          "text": [
            "Rango inicial: 5\n",
            "Rango final: 20\n",
            "Digame un numero: 17\n",
            "VALOR VALIDO\n"
          ]
        }
      ]
    }
  ]
}