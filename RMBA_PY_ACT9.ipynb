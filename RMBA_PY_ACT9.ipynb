{
  "nbformat": 4,
  "nbformat_minor": 0,
  "metadata": {
    "colab": {
      "provenance": [],
      "authorship_tag": "ABX9TyOIAwFiSuGILTPFlHOiO8iZ",
      "include_colab_link": true
    },
    "kernelspec": {
      "name": "python3",
      "display_name": "Python 3"
    },
    "language_info": {
      "name": "python"
    }
  },
  "cells": [
    {
      "cell_type": "markdown",
      "metadata": {
        "id": "view-in-github",
        "colab_type": "text"
      },
      "source": [
        "<a href=\"https://colab.research.google.com/github/BrayanArM98/Python/blob/main/RMBA_PY_ACT9.ipynb\" target=\"_parent\"><img src=\"https://colab.research.google.com/assets/colab-badge.svg\" alt=\"Open In Colab\"/></a>"
      ]
    },
    {
      "cell_type": "markdown",
      "source": [
        "# ACTIVIDAD 9"
      ],
      "metadata": {
        "id": "BElMG22dYNMN"
      }
    },
    {
      "cell_type": "markdown",
      "source": [
        "Realiza un programa en python que utilice el siguiente menu:\n",
        "\n",
        " MENU\n",
        "\n",
        " 1.- Crear Diccionario\n",
        "\n",
        " 2.- Imprimir Diccionario\n",
        "\n",
        " 0.- Salir\n",
        "\n",
        "\n",
        "\n",
        "CREAR DICCIIONARIO: funcion que retorne un diccionario con los datos de basicos de un alumno, donde se pide {id,nombre (1 O 2) , appaterno,apmaterno, edad,sexo}, El diccionario se debe generar automaticmanete a partir de listas.\n",
        "\n",
        "\n",
        "\n",
        "IMPRIMIR DICCIONARIO:  Funcion que reciba como parametro el diccionario, y le de una salida mostrando la informacion en forma de registro que se genero con el diccionario"
      ],
      "metadata": {
        "id": "ZvANHFqIYR4j"
      }
    },
    {
      "cell_type": "code",
      "source": [
        "from IPython.display import clear_output\n",
        "import random"
      ],
      "metadata": {
        "id": "-Ao5ORHthWh9"
      },
      "execution_count": null,
      "outputs": []
    },
    {
      "cell_type": "code",
      "source": [
        "def validar_num(msge,msgeError=\"ERROR: Debes ingresar un numero\"):\n",
        "    while True:\n",
        "        try:\n",
        "            num = int(input(f\"{msge}: \"))\n",
        "        except:\n",
        "            print (msgeError)\n",
        "            continue\n",
        "        else:\n",
        "            break\n",
        "    return num"
      ],
      "metadata": {
        "id": "lM2_IOh5heIR"
      },
      "execution_count": null,
      "outputs": []
    },
    {
      "cell_type": "code",
      "source": [
        "def creardicc():\n",
        "    clave = [\"Matricula\", \"Nombre\", \"Ap Paterno\", \"Ap Materno\", \"Edad\", \"Sexo\"]\n",
        "    matricula = [372239, 368736, 372424, 370121, 361603, 372746, 372270]\n",
        "    appat = [\"CAMACHO\", \"CEBREROS\", \"VALDEZ\", \"OZUNA\", \"REYES\", \"RUIZ\", \"OCHOA\"]\n",
        "    apmat = [\"LOPEZ\", \"GARAMBULLO\", \"VANDERAS\", \"CESEÑA\", \"PEREDO\", \"GONZALES\", \"ANGULO\"]\n",
        "    nombre = [\"DANIEL\", \"ADRIAN\", \"KEVIN\", \"TONY\", \"ENRIQUE\", \"MARCOS\", \"LUIS\"]\n",
        "    edad = [19, 19, 20, 20, 24, 19, 20]\n",
        "    sexo = [\"H\", \"H\", \"H\", \"H\", \"H\", \"H\"]\n",
        "\n",
        "    oprand=random.randint(0,6)\n",
        "    dicc=dict(zip(clave,[matricula[oprand],appat[oprand],apmat[oprand],nombre[oprand],edad[oprand],sexo[oprand]]))\n",
        "\n",
        "    print(\"Diccionario creado correctamente\")\n",
        "\n",
        "    return dicc"
      ],
      "metadata": {
        "id": "td9U4lpDhiCR"
      },
      "execution_count": null,
      "outputs": []
    },
    {
      "cell_type": "code",
      "source": [
        "def imprdicc(dicc):\n",
        "    for clave in dicc:\n",
        "        print(f\"{clave} : {dicc[clave]}\")"
      ],
      "metadata": {
        "id": "ZdxWz7qrhwNo"
      },
      "execution_count": null,
      "outputs": []
    },
    {
      "cell_type": "code",
      "source": [
        "while True:\n",
        "    print(\"   BIENVENIDO  \")\n",
        "    print(\"1.-CREAR DICCIONARIO\")\n",
        "    print(\"2.-IMPRIMIR DICCIONARIO\")\n",
        "    print(\"3.-SALIR\")\n",
        "    op=validar_num(\"Escoge una opcion: \")\n",
        "    if op==1:\n",
        "        dicc=creardicc()\n",
        "        input(\"Presiona ENTER para borrar la pantalla\")\n",
        "        clear_output()\n",
        "        continue\n",
        "    elif op==2:\n",
        " imprdicc(dicc)\n",
        "        input(\"Presiona ENTER para borrar la pantalla\")\n",
        "        clear_output()\n",
        "        continue\n",
        "elif op==0:\n",
        "        break"
      ],
      "metadata": {
        "colab": {
          "base_uri": "https://localhost:8080/",
          "height": 140
        },
        "id": "l0yHZL-0h2q3",
        "outputId": "f5c8611e-955d-4c79-8b8e-970d2ebffe23"
      },
      "execution_count": null,
      "outputs": [
        {
          "output_type": "error",
          "ename": "IndentationError",
          "evalue": "ignored",
          "traceback": [
            "\u001b[0;36m  File \u001b[0;32m\"<ipython-input-23-c39ebb611326>\"\u001b[0;36m, line \u001b[0;32m13\u001b[0m\n\u001b[0;31m    imprdicc(dicc)\u001b[0m\n\u001b[0m                  ^\u001b[0m\n\u001b[0;31mIndentationError\u001b[0m\u001b[0;31m:\u001b[0m expected an indented block after 'elif' statement on line 12\n"
          ]
        }
      ]
    }
  ]
}